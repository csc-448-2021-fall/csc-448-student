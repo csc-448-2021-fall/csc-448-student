{
 "cells": [
  {
   "cell_type": "markdown",
   "metadata": {
    "slideshow": {
     "slide_type": "slide"
    }
   },
   "source": [
    "# Topic 5 - Which animal gave us SARS?\n",
    "## Secondary Title: Evolutionary Tree Construction\n",
    "\n",
    "Motivation and some exercises are variations on those available in Bioinformatics Algorithms: An Active-Learning Approach by Phillip Compeau & Pavel Pevzner."
   ]
  },
  {
   "cell_type": "markdown",
   "metadata": {
    "slideshow": {
     "slide_type": "subslide"
    }
   },
   "source": [
    "## Learning Outcomes\n",
    "* Understand evolutionary trees and their uses in biology\n",
    "* Apply, analyze, and evaluate evolutionary tree algorithms"
   ]
  },
  {
   "cell_type": "markdown",
   "metadata": {
    "slideshow": {
     "slide_type": "subslide"
    }
   },
   "source": [
    "## Ice breaker\n",
    "\n",
    "What's your favorite hobby picked up during the pandemic?"
   ]
  },
  {
   "cell_type": "markdown",
   "metadata": {
    "slideshow": {
     "slide_type": "slide"
    }
   },
   "source": [
    "# Fastest Outbreak?"
   ]
  },
  {
   "cell_type": "markdown",
   "metadata": {
    "slideshow": {
     "slide_type": "subslide"
    }
   },
   "source": [
    "## SARS crosses Pacific Ocean within a week\n",
    "* Feb 21, 2003 - Chinese doctor Liu Jianlu flys to Hong Kong to attend a wedding\n",
    "* Two weeks later Dr. Liu Jianlu dies but tells doctors that he recently treated sick patients in Guangdong Province\n",
    "* Feb 23, 2003 - Man staying across the hall from Liu Jianlu travels to Hanoi and dies after infecting 80 people\n",
    "* Feb 26, 2003 - Woman traveled home to Toronto bringing the disease and initiating an outbreak there.\n",
    "\n",
    "* It took 5 years for the Black Death to travel from Constantinople to Kiev\n",
    "* It took HIV two decades to circle the global"
   ]
  },
  {
   "cell_type": "markdown",
   "metadata": {
    "slideshow": {
     "slide_type": "subslide"
    }
   },
   "source": [
    "## Reaction\n",
    "The reaction was immense with Chinese officials threatening to execute infected patients who violated quarantine.\n",
    "\n",
    "If international travel spread the disease then international collaboration would contain it.\n",
    "\n",
    "Within weeks bioligists identified a virus that caused the epdemic and sequences the genome. The new disease earned the name Severe Acute Respiratory Syndrome or SARS\n",
    "\n",
    "<a href=\"https://theconversation.com/the-mysterious-disappearance-of-the-first-sars-virus-and-why-we-need-a-vaccine-for-the-current-one-but-didnt-for-the-other-137583\">Article on SARS and COVID19</a>"
   ]
  },
  {
   "cell_type": "markdown",
   "metadata": {
    "slideshow": {
     "slide_type": "subslide"
    }
   },
   "source": [
    "## Evolution of SARS\n",
    "* SARS belongs to a family of viruses called conoraviruses (named after latin word *corona* meaning crown)\n",
    "* Before SARS the coronaviruses were thought to only cause minor problems like the common cold\n",
    "\n",
    "<table>\n",
    "    <tr>\n",
    "        <td>\n",
    "            <img src=\"http://bioinformaticsalgorithms.com/images/Evolution/coronavirus.png\" width=200>\n",
    "        </td>\n",
    "        <td>\n",
    "            <img src=\"http://bioinformaticsalgorithms.com/images/Evolution/eclipse.png\" width=200>\n",
    "        </td>\n",
    "    </tr>\n",
    "    </table>"
   ]
  },
  {
   "cell_type": "markdown",
   "metadata": {
    "slideshow": {
     "slide_type": "subslide"
    }
   },
   "source": [
    "## Sequencing\n",
    "* By fall 2003, researchers sequenced many strains from patients in various contries\n",
    "* OK ... so we keep talking about sequencing...\n",
    "<center>\n",
    "<img src=\"https://www.genengnews.com/wp-content/uploads/2018/10/Aug23_GEN_Baker_NGSChallenges_GettyImages537618080_ktsimage_DNATestSangerSeq2004017011.jpg\" width=400>\n",
    "</center>\n",
    "* <a href=\"https://www.youtube.com/watch?v=zBPKj0mMcDg&ab_channel=ThermoFisherScientific\">But what are some modern ways to do sequencing?</a>"
   ]
  },
  {
   "cell_type": "markdown",
   "metadata": {
    "slideshow": {
     "slide_type": "subslide"
    }
   },
   "source": [
    "## Questions\n",
    "* How did SARS-CoV cross the species barrier to humans? \n",
    "* When and where did it happen? How did SARS spread around the world, and who infected whom?\n",
    "\n",
    "Each of these questions about SARS is ultimately related to the problem of constructing evolutionary trees (also known as phylogenies). Here is an evolutionary tree for HIV, but what algorithms do we use for this?\n",
    "\n",
    "<img src=\"http://bioinformaticsalgorithms.com/images/Evolution/HIV_phylogeny.png\" width=500>"
   ]
  },
  {
   "cell_type": "markdown",
   "metadata": {
    "slideshow": {
     "slide_type": "slide"
    }
   },
   "source": [
    "Our weekly injection of biology from a biologist :)\n",
    "\n",
    "Let's watch this video and try to answer:\n",
    "1. What is cladistics?\n",
    "2. What is parsimony?\n",
    "3. Do we compare the whole genome or part of it? Why or why not?\n",
    "4. What do we use ancestoral genes?\n",
    "5. Is it one size algorithm fits all?\n",
    "\n",
    "<a href=\"https://calpoly.zoom.us/rec/share/hY2IiOUQZlOwwt54utQtXUuwdIcWsERw_ylxc48HcNT-BZ4VhxPwWCueNA1hLAzB.1Fhte5u1Cs-Kn4-2\">Dr. Jean Davidson Video</a> Passcode: q$20al&M"
   ]
  },
  {
   "cell_type": "markdown",
   "metadata": {
    "slideshow": {
     "slide_type": "slide"
    }
   },
   "source": [
    "# Distance Matrices to Evolutionary Trees\n",
    "* Scientists started sequencing cornonavirus from various species to determine which is most similar to SARS\n",
    "* Comparing (multiple alignment) of entire viral genomes is tricky because viral genes are often rearranged, inserted, and deleted\n",
    "* Scientists focused on one of six genes in SARS-CoV\n",
    "* Gene that encodes Spike protein\n",
    "    * Identifies and binds to receptor site on host's cell membrane\n",
    "    * Spike protein is 1,255 amino acids long and rather weak similarity with Spike proteins in other coronaviruses\n",
    "    * Even subtle similarities turned out to be ssufficient for constructing a multiple alignment (comparison) across coronaviruses"
   ]
  },
  {
   "cell_type": "markdown",
   "metadata": {
    "slideshow": {
     "slide_type": "subslide"
    }
   },
   "source": [
    "## Distance matrix\n",
    "Consider the DNA sequences shown below for 4 different species. \n",
    "<img src=\"http://bioinformaticsalgorithms.com/images/Evolution/mammal_alignment_distance_matrix.png\" width=400>\n",
    "The above example defined a distance matrix of +1 for every mismatched position. In general, $D$ must satisfy three properties. It must be symmetric (for all $i$ and $j$, $D_{i,j}$ = $D_{j,i}$), non-negative (for all $i$ and $j$, $D_{i,j}$ $\\ge$ 0) and satisfy the triangle inequality (for all $i$, $j$, and $k$, $D_{i,j} + D_{j,k} \\ge D_{i,k}$ )."
   ]
  },
  {
   "cell_type": "markdown",
   "metadata": {
    "slideshow": {
     "slide_type": "subslide"
    }
   },
   "source": [
    "<img src=\"http://bioinformaticsalgorithms.com/images/Evolution/tree_of_life.png\" width=700>"
   ]
  },
  {
   "cell_type": "markdown",
   "metadata": {
    "slideshow": {
     "slide_type": "subslide"
    }
   },
   "source": [
    "## Rooted trees\n",
    "<img src=\"http://bioinformaticsalgorithms.com/images/Evolution/rooted_tree_time.png\" width=700>"
   ]
  },
  {
   "cell_type": "markdown",
   "metadata": {
    "slideshow": {
     "slide_type": "subslide"
    }
   },
   "source": [
    "## What are we aiming for?\n",
    "We say that a weighted unooted tree $T$ fits a distance matrix $D$ if $d_{i,j}=D_{i,j}$ for every pair of leaves $i$ and $j$. Example:\n",
    "\n",
    "<img src=\"http://bioinformaticsalgorithms.com/images/Evolution/additive_distance_matrix.png\" width=300>\n",
    "\n",
    "<img src=\"http://bioinformaticsalgorithms.com/images/Evolution/simple_tree_fitting_additive_matrix.png\" width=300>"
   ]
  },
  {
   "cell_type": "markdown",
   "metadata": {
    "slideshow": {
     "slide_type": "slide"
    }
   },
   "source": [
    "## Technical Detour (networkx and pandas): \n",
    "\n",
    "``networkx`` is a very useful Python package. It provides a great visualization for many different applications. In your projects you can use other evolutionary tree tools."
   ]
  },
  {
   "cell_type": "code",
   "execution_count": 39,
   "metadata": {
    "slideshow": {
     "slide_type": "subslide"
    }
   },
   "outputs": [],
   "source": [
    "%matplotlib inline \n",
    "\n",
    "import networkx as nx\n",
    "\n",
    "G = nx.Graph()\n",
    "\n",
    "G.add_edge('v1', 'v5', weight=11)\n",
    "G.add_edge('v2', 'v5', weight=2)\n",
    "G.add_edge('v5', 'v6', weight=4)\n",
    "G.add_edge('v6', 'v3', weight=6)\n",
    "G.add_edge('v6', 'v4', weight=7)"
   ]
  },
  {
   "cell_type": "code",
   "execution_count": 40,
   "metadata": {
    "slideshow": {
     "slide_type": "subslide"
    }
   },
   "outputs": [],
   "source": [
    "import copy\n",
    "import pandas as pd\n",
    "\n",
    "def show(T):\n",
    "    T = copy.deepcopy(T)\n",
    "    labels = nx.get_edge_attributes(T,'weight')\n",
    "    max_value = 0\n",
    "    for n1,n2 in T.edges():\n",
    "        if T[n1][n2]['weight'] > max_value:\n",
    "            max_value = T[n1][n2]['weight']\n",
    "    for n1,n2 in T.edges():\n",
    "        T[n1][n2]['weight']=max_value - T[n1][n2]['weight'] + 3\n",
    "    pos=nx.spring_layout(T)\n",
    "    nx.draw(T,pos,with_labels=True)\n",
    "    nx.draw_networkx_edge_labels(T,pos,edge_labels=labels);\n",
    "    \n",
    "def show_adj(T):\n",
    "    if len(T.nodes()) == 0:\n",
    "        return pd.DataFrame()\n",
    "    return pd.DataFrame(nx.adjacency_matrix(T).todense(),index=T.nodes(),columns=T.nodes())"
   ]
  },
  {
   "cell_type": "code",
   "execution_count": 41,
   "metadata": {
    "slideshow": {
     "slide_type": "subslide"
    }
   },
   "outputs": [
    {
     "data": {
      "image/png": "[encoded data removed]",
      "text/plain": [
       "<Figure size 432x288 with 1 Axes>"
      ]
     },
     "metadata": {},
     "output_type": "display_data"
    }
   ],
   "source": [
    "show(G)"
   ]
  },
  {
   "cell_type": "code",
   "execution_count": 42,
   "metadata": {
    "slideshow": {
     "slide_type": "subslide"
    }
   },
   "outputs": [
    {
     "data": {
      "text/html": [
       "<div>\n",
       "<style scoped>\n",
       "    .dataframe tbody tr th:only-of-type {\n",
       "        vertical-align: middle;\n",
       "    }\n",
       "\n",
       "    .dataframe tbody tr th {\n",
       "        vertical-align: top;\n",
       "    }\n",
       "\n",
       "    .dataframe thead th {\n",
       "        text-align: right;\n",
       "    }\n",
       "</style>\n",
       "<table border=\"1\" class=\"dataframe\">\n",
       "  <thead>\n",
       "    <tr style=\"text-align: right;\">\n",
       "      <th></th>\n",
       "      <th>v1</th>\n",
       "      <th>v5</th>\n",
       "      <th>v2</th>\n",
       "      <th>v6</th>\n",
       "      <th>v3</th>\n",
       "      <th>v4</th>\n",
       "    </tr>\n",
       "  </thead>\n",
       "  <tbody>\n",
       "    <tr>\n",
       "      <th>v1</th>\n",
       "      <td>0</td>\n",
       "      <td>11</td>\n",
       "      <td>0</td>\n",
       "      <td>0</td>\n",
       "      <td>0</td>\n",
       "      <td>0</td>\n",
       "    </tr>\n",
       "    <tr>\n",
       "      <th>v5</th>\n",
       "      <td>11</td>\n",
       "      <td>0</td>\n",
       "      <td>2</td>\n",
       "      <td>4</td>\n",
       "      <td>0</td>\n",
       "      <td>0</td>\n",
       "    </tr>\n",
       "    <tr>\n",
       "      <th>v2</th>\n",
       "      <td>0</td>\n",
       "      <td>2</td>\n",
       "      <td>0</td>\n",
       "      <td>0</td>\n",
       "      <td>0</td>\n",
       "      <td>0</td>\n",
       "    </tr>\n",
       "    <tr>\n",
       "      <th>v6</th>\n",
       "      <td>0</td>\n",
       "      <td>4</td>\n",
       "      <td>0</td>\n",
       "      <td>0</td>\n",
       "      <td>6</td>\n",
       "      <td>7</td>\n",
       "    </tr>\n",
       "    <tr>\n",
       "      <th>v3</th>\n",
       "      <td>0</td>\n",
       "      <td>0</td>\n",
       "      <td>0</td>\n",
       "      <td>6</td>\n",
       "      <td>0</td>\n",
       "      <td>0</td>\n",
       "    </tr>\n",
       "    <tr>\n",
       "      <th>v4</th>\n",
       "      <td>0</td>\n",
       "      <td>0</td>\n",
       "      <td>0</td>\n",
       "      <td>7</td>\n",
       "      <td>0</td>\n",
       "      <td>0</td>\n",
       "    </tr>\n",
       "  </tbody>\n",
       "</table>\n",
       "</div>"
      ],
      "text/plain": [
       "    v1  v5  v2  v6  v3  v4\n",
       "v1   0  11   0   0   0   0\n",
       "v5  11   0   2   4   0   0\n",
       "v2   0   2   0   0   0   0\n",
       "v6   0   4   0   0   6   7\n",
       "v3   0   0   0   6   0   0\n",
       "v4   0   0   0   7   0   0"
      ]
     },
     "execution_count": 42,
     "metadata": {},
     "output_type": "execute_result"
    }
   ],
   "source": [
    "show_adj(G)"
   ]
  },
  {
   "cell_type": "markdown",
   "metadata": {
    "slideshow": {
     "slide_type": "slide"
    }
   },
   "source": [
    "## Into the algorithms"
   ]
  },
  {
   "cell_type": "markdown",
   "metadata": {
    "slideshow": {
     "slide_type": "subslide"
    }
   },
   "source": [
    "## Let's talk about a given graph and neighboring leaves\n",
    "<br>\n",
    "<center>\n",
    "${\\color{red}{d_{k,m}}} = \\dfrac{({\\color{purple}{d_{i,m}}} + {\\color{red}{d_{k,m}}}) + ({\\color{blue}{d_{j,m}}} + {\\color{red}{d_{k,m}}}) - ({\\color{purple}{d_{i,m}}} + {\\color{blue}{d_{j,m}}})}{2} = \\dfrac{d_{i,k} +d_{j,k} - d_{i,j}}{2}$\n",
    "\n",
    "<img src=\"http://bioinformaticsalgorithms.com/images/Evolution/neighboring_leaves_equality.png\" width=500>\n",
    "</center>"
   ]
  },
  {
   "cell_type": "markdown",
   "metadata": {
    "slideshow": {
     "slide_type": "subslide"
    }
   },
   "source": [
    "**Exercise 1** Compute the distances between leaves in a weighted tree\n",
    "\n",
    "Input: A weighted tree defined by the package networkx\n",
    "\n",
    "Output: $n \\times n$ matrix ($d_{i,j}$), where $d_{i,j}$ is the length of the path between leaves $i$ and $j$.\n",
    "\n",
    "Learning objectives:\n",
    "1. Refresh memory of graph traversal (path finding)\n",
    "2. Understand the difference between $d_{i,j}$ and $D_{i,j}$.\n",
    "3. Gain exposure and work with networkx python package."
   ]
  },
  {
   "cell_type": "code",
   "execution_count": 43,
   "metadata": {
    "slideshow": {
     "slide_type": "subslide"
    }
   },
   "outputs": [
    {
     "data": {
      "text/html": [
       "<div>\n",
       "<style scoped>\n",
       "    .dataframe tbody tr th:only-of-type {\n",
       "        vertical-align: middle;\n",
       "    }\n",
       "\n",
       "    .dataframe tbody tr th {\n",
       "        vertical-align: top;\n",
       "    }\n",
       "\n",
       "    .dataframe thead th {\n",
       "        text-align: right;\n",
       "    }\n",
       "</style>\n",
       "<table border=\"1\" class=\"dataframe\">\n",
       "  <thead>\n",
       "    <tr style=\"text-align: right;\">\n",
       "      <th></th>\n",
       "      <th>v1</th>\n",
       "      <th>v2</th>\n",
       "      <th>v3</th>\n",
       "      <th>v4</th>\n",
       "      <th>v5</th>\n",
       "      <th>v6</th>\n",
       "    </tr>\n",
       "  </thead>\n",
       "  <tbody>\n",
       "    <tr>\n",
       "      <th>v1</th>\n",
       "      <td>0</td>\n",
       "      <td>13</td>\n",
       "      <td>21</td>\n",
       "      <td>22</td>\n",
       "      <td>11</td>\n",
       "      <td>15</td>\n",
       "    </tr>\n",
       "    <tr>\n",
       "      <th>v2</th>\n",
       "      <td>13</td>\n",
       "      <td>0</td>\n",
       "      <td>12</td>\n",
       "      <td>13</td>\n",
       "      <td>2</td>\n",
       "      <td>6</td>\n",
       "    </tr>\n",
       "    <tr>\n",
       "      <th>v3</th>\n",
       "      <td>21</td>\n",
       "      <td>12</td>\n",
       "      <td>0</td>\n",
       "      <td>13</td>\n",
       "      <td>10</td>\n",
       "      <td>6</td>\n",
       "    </tr>\n",
       "    <tr>\n",
       "      <th>v4</th>\n",
       "      <td>22</td>\n",
       "      <td>13</td>\n",
       "      <td>13</td>\n",
       "      <td>0</td>\n",
       "      <td>11</td>\n",
       "      <td>7</td>\n",
       "    </tr>\n",
       "    <tr>\n",
       "      <th>v5</th>\n",
       "      <td>11</td>\n",
       "      <td>2</td>\n",
       "      <td>10</td>\n",
       "      <td>11</td>\n",
       "      <td>0</td>\n",
       "      <td>4</td>\n",
       "    </tr>\n",
       "    <tr>\n",
       "      <th>v6</th>\n",
       "      <td>15</td>\n",
       "      <td>6</td>\n",
       "      <td>6</td>\n",
       "      <td>7</td>\n",
       "      <td>4</td>\n",
       "      <td>0</td>\n",
       "    </tr>\n",
       "  </tbody>\n",
       "</table>\n",
       "</div>"
      ],
      "text/plain": [
       "    v1  v2  v3  v4  v5  v6\n",
       "v1   0  13  21  22  11  15\n",
       "v2  13   0  12  13   2   6\n",
       "v3  21  12   0  13  10   6\n",
       "v4  22  13  13   0  11   7\n",
       "v5  11   2  10  11   0   4\n",
       "v6  15   6   6   7   4   0"
      ]
     },
     "execution_count": 43,
     "metadata": {},
     "output_type": "execute_result"
    }
   ],
   "source": [
    "import pandas as pd\n",
    "\n",
    "def compute_d(G):\n",
    "    d = {}\n",
    "    for nodei in G.nodes():\n",
    "        for nodej in G.nodes():\n",
    "            d[nodei,nodej] = 0\n",
    "    # Fill in all adjacent values\n",
    "    for nodei,nodej,data in G.edges(data=True):\n",
    "        d[nodei,nodej] = data['weight']\n",
    "        d[nodej,nodei] = d[nodei,nodej]\n",
    "    for nodei in G.nodes():\n",
    "        for nodej in G.nodes():\n",
    "            if d[nodei,nodej] == 0 and nodei != nodej:\n",
    "                dij = 0\n",
    "                ## YOUR SOLUTION HERE\n",
    "                # networkx has a function to compute simple paths. You can uncomment out the line\n",
    "                # below in order to see this function working. I'll be reviewing your solutions though\n",
    "                # and if you don't write this from scratch, then I will consider this an attempt to\n",
    "                # circumvent the autograder\n",
    "                #path = list(nx.all_simple_paths(G,nodei,nodej))[0] # get the first simple path\n",
    "                path = [\"v1\",\"v2\"] #remove this when you are ready\n",
    "                a = path[0]\n",
    "                for b in path[1:]:\n",
    "                    dij += d[a,b]\n",
    "                    a = b\n",
    "                d[nodei,nodej] = dij\n",
    "                d[nodej,nodei] = dij\n",
    "    d = pd.DataFrame(d.values(),index=d.keys(),columns=['d']).unstack()\n",
    "    d.columns = [n for l,n in d.columns]\n",
    "    return d\n",
    "\n",
    "compute_d(G)"
   ]
  },
  {
   "cell_type": "markdown",
   "metadata": {
    "slideshow": {
     "slide_type": "subslide"
    }
   },
   "source": [
    "## What if you need to find the graph?\n",
    "<img src=\"http://bioinformaticsalgorithms.com/images/Evolution/additive_phylogeny.png\" width=450>"
   ]
  },
  {
   "cell_type": "markdown",
   "metadata": {
    "slideshow": {
     "slide_type": "subslide"
    }
   },
   "source": [
    "**Exercise 2** Implement limb length algorightm.\n",
    "\n",
    "Input: An addititve distance matrix $D$ and a node $j$\n",
    "\n",
    "Output: The length of the limb connect leaf $j$ to its parent in $Tree(D)$.\n",
    "\n",
    "Learning outcomes:\n",
    "1. Understanding why this function is needed when we just computed the paths weights previously.\n",
    "2. Understanding the Limb Length Theorem in Chapter 7."
   ]
  },
  {
   "cell_type": "code",
   "execution_count": 44,
   "metadata": {
    "slideshow": {
     "slide_type": "subslide"
    }
   },
   "outputs": [
    {
     "name": "stdout",
     "output_type": "stream",
     "text": [
      "    v1  v2  v3  v4\n",
      "v1   0  13  21  22\n",
      "v2  13   0  12  13\n",
      "v3  21  12   0  13\n",
      "v4  22  13  13   0\n"
     ]
    },
    {
     "data": {
      "text/plain": [
       "7.0"
      ]
     },
     "execution_count": 44,
     "metadata": {},
     "output_type": "execute_result"
    }
   ],
   "source": [
    "import pandas as pd\n",
    "import numpy as np\n",
    "\n",
    "def limb(D,j):\n",
    "    min_length = np.Inf\n",
    "    nodes = D.drop(j).index\n",
    "    for ix,i in enumerate(nodes):\n",
    "        for kx in range(ix+1,len(nodes)):\n",
    "            k = nodes[kx]\n",
    "    return min_length\n",
    "\n",
    "names = [\"v1\",\"v2\",\"v3\",\"v4\"]\n",
    "D = pd.DataFrame([[0,13,21,22],[13,0,12,13],[21,12,0,13],[22,13,13,0]],index=names,columns=names)\n",
    "print(D)\n",
    "limb(D,\"v4\")\n"
   ]
  },
  {
   "cell_type": "markdown",
   "metadata": {
    "slideshow": {
     "slide_type": "subslide"
    }
   },
   "source": [
    "## Building up additive phylogeny\n",
    "One piece at a time... First thing will be to find out where we could insert a noode.\n",
    "\n",
    "Learning outcomes:\n",
    "1. Using recursion and by extension debugging recursion\n",
    "2. Understand additive versus non-additive $D$\n",
    "3. Constructing our first evolutionary tree"
   ]
  },
  {
   "cell_type": "markdown",
   "metadata": {
    "slideshow": {
     "slide_type": "subslide"
    }
   },
   "source": [
    "**Exercise 3a** Implement a portion of ``AdditivePhylogeny`` algorithm from Chapter 7.\n",
    "\n",
    "Input: Distance matrix $D$ and node name $n$.\n",
    "\n",
    "Output: Return the node names $i,k$ that satisfy $D_{i,k} = D_{i,n} + D_{n,k}$. In other words, where can you insert $n$ back in."
   ]
  },
  {
   "cell_type": "code",
   "execution_count": 45,
   "metadata": {
    "slideshow": {
     "slide_type": "skip"
    }
   },
   "outputs": [],
   "source": [
    "Dorig = copy.copy(D)"
   ]
  },
  {
   "cell_type": "code",
   "execution_count": 46,
   "metadata": {
    "slideshow": {
     "slide_type": "subslide"
    }
   },
   "outputs": [
    {
     "name": "stdout",
     "output_type": "stream",
     "text": [
      "Starting D\n",
      "    v1  v2  v3  v4\n",
      "v1   0  13  21  22\n",
      "v2  13   0  12  13\n",
      "v3  21  12   0  13\n",
      "v4  22  13  13   0\n",
      "Node to remove: v4\n",
      "New D\n",
      "      v1    v2    v3    v4\n",
      "v1   0.0  13.0  21.0  15.0\n",
      "v2  13.0   0.0  12.0   6.0\n",
      "v3  21.0  12.0   0.0   6.0\n",
      "v4  15.0   6.0   6.0   0.0\n",
      "v4\n"
     ]
    },
    {
     "data": {
      "text/plain": [
       "('v1', 'v3')"
      ]
     },
     "execution_count": 46,
     "metadata": {},
     "output_type": "execute_result"
    }
   ],
   "source": [
    "def find(D,n):\n",
    "    nodes = D.drop(n).index\n",
    "    for ix,i in enumerate(nodes):\n",
    "        for kx in range(ix+1,len(nodes)):\n",
    "            # Your solution here\n",
    "            pass\n",
    "    return None,None\n",
    "\n",
    "D = copy.copy(Dorig)\n",
    "print(\"Starting D\")\n",
    "print(D)\n",
    "limbLength = limb(D,D.index[-1]) # our algorithm will choose the last node\n",
    "n = D.index[-1]\n",
    "print(\"Node to remove:\",n)\n",
    "Dtrimmed = D.drop(n).drop(n,axis=1)\n",
    "for j in Dtrimmed.index:\n",
    "    D.loc[j,n] = D.loc[j,n] - limbLength\n",
    "    D.loc[n,j] = D.loc[j,n]\n",
    "print(\"New D\")\n",
    "print(D)\n",
    "print(n)\n",
    "find(D,n)"
   ]
  },
  {
   "cell_type": "markdown",
   "metadata": {},
   "source": [
    "**Exercise 3b** Implement a portion of ``AdditivePhylogeny`` algorithm from Chapter 7.\n",
    "\n",
    "Input: Distance matrix $D$ of size $2 \\times 2$.\n",
    "\n",
    "Output: Return a networkx graph with the correct weight."
   ]
  },
  {
   "cell_type": "code",
   "execution_count": 47,
   "metadata": {},
   "outputs": [
    {
     "data": {
      "image/png": "[encoded data removed]",
      "text/plain": [
       "<Figure size 432x288 with 1 Axes>"
      ]
     },
     "metadata": {},
     "output_type": "display_data"
    }
   ],
   "source": [
    "def base_case(D):\n",
    "    T = nx.Graph()\n",
    "    ## YOUR SOLUTION HERE\n",
    "    return T\n",
    "\n",
    "base_G = base_case(D.iloc[:2,:].iloc[:,:2])\n",
    "show(base_G)"
   ]
  },
  {
   "cell_type": "code",
   "execution_count": 48,
   "metadata": {
    "slideshow": {
     "slide_type": "subslide"
    }
   },
   "outputs": [
    {
     "name": "stdout",
     "output_type": "stream",
     "text": [
      "v3 v1 v2\n",
      "v4 v1 v3\n"
     ]
    },
    {
     "data": {
      "image/png": "[encoded data removed]",
      "text/plain": [
       "<Figure size 432x288 with 1 Axes>"
      ]
     },
     "metadata": {},
     "output_type": "display_data"
    }
   ],
   "source": [
    "def additive_phylogeny(D,new_number):\n",
    "    D = D.copy()\n",
    "    if len(D) == 2:\n",
    "        return base_case(D) # Implemented correctly above\n",
    "    n = D.index[-1]\n",
    "    limbLength = limb(D,n) # our algorithm will choose the last node\n",
    "    Dtrimmed = D.drop(n).drop(n,axis=1)\n",
    "    for j in Dtrimmed.index:\n",
    "        D.loc[j,n] = D.loc[j,n] - limbLength\n",
    "        D.loc[n,j] = D.loc[j,n]\n",
    "\n",
    "    Dtrimmed = D.drop(n).drop(n,axis=1)\n",
    "    T = additive_phylogeny(Dtrimmed,new_number+1)\n",
    "\n",
    "    i,k = find(D,n) # Implemented correctly above\n",
    "    print(n,i,k)\n",
    "    #if D.loc[j,n] < D.loc[i,n]:\n",
    "    #    i,k = k,i\n",
    "    v = \"v%s\"%new_number\n",
    "    ## Your solution here\n",
    "    # This is definitely the most complicated thing conceptually\n",
    "    # You'll need to add edges and remove edges (T.add_edge and T.remove_edge)\n",
    "    return T\n",
    "\n",
    "D = copy.copy(Dorig)\n",
    "G2 = additive_phylogeny(D,len(D)+1)\n",
    "show(G2)"
   ]
  },
  {
   "cell_type": "markdown",
   "metadata": {
    "slideshow": {
     "slide_type": "subslide"
    }
   },
   "source": [
    "**Exercise 4.** Run your new algorithm on SARS data derived from multiple alignment of Spike proteins."
   ]
  },
  {
   "cell_type": "code",
   "execution_count": 49,
   "metadata": {
    "slideshow": {
     "slide_type": "subslide"
    }
   },
   "outputs": [
    {
     "name": "stdout",
     "output_type": "stream",
     "text": [
      "Opening ../data/coronavirus_distance_matrix_additive.txt\n"
     ]
    },
    {
     "data": {
      "text/html": [
       "<div>\n",
       "<style scoped>\n",
       "    .dataframe tbody tr th:only-of-type {\n",
       "        vertical-align: middle;\n",
       "    }\n",
       "\n",
       "    .dataframe tbody tr th {\n",
       "        vertical-align: top;\n",
       "    }\n",
       "\n",
       "    .dataframe thead th {\n",
       "        text-align: right;\n",
       "    }\n",
       "</style>\n",
       "<table border=\"1\" class=\"dataframe\">\n",
       "  <thead>\n",
       "    <tr style=\"text-align: right;\">\n",
       "      <th></th>\n",
       "      <th>Cow</th>\n",
       "      <th>Pig</th>\n",
       "      <th>Horse</th>\n",
       "      <th>Mouse</th>\n",
       "      <th>Dog</th>\n",
       "      <th>Cat</th>\n",
       "      <th>Turkey</th>\n",
       "      <th>Civet</th>\n",
       "      <th>Human</th>\n",
       "    </tr>\n",
       "  </thead>\n",
       "  <tbody>\n",
       "    <tr>\n",
       "      <th>Cow</th>\n",
       "      <td>0</td>\n",
       "      <td>295</td>\n",
       "      <td>306</td>\n",
       "      <td>497</td>\n",
       "      <td>1081</td>\n",
       "      <td>1091</td>\n",
       "      <td>1003</td>\n",
       "      <td>956</td>\n",
       "      <td>954</td>\n",
       "    </tr>\n",
       "    <tr>\n",
       "      <th>Pig</th>\n",
       "      <td>295</td>\n",
       "      <td>0</td>\n",
       "      <td>309</td>\n",
       "      <td>500</td>\n",
       "      <td>1084</td>\n",
       "      <td>1094</td>\n",
       "      <td>1006</td>\n",
       "      <td>959</td>\n",
       "      <td>957</td>\n",
       "    </tr>\n",
       "    <tr>\n",
       "      <th>Horse</th>\n",
       "      <td>306</td>\n",
       "      <td>309</td>\n",
       "      <td>0</td>\n",
       "      <td>489</td>\n",
       "      <td>1073</td>\n",
       "      <td>1083</td>\n",
       "      <td>995</td>\n",
       "      <td>948</td>\n",
       "      <td>946</td>\n",
       "    </tr>\n",
       "    <tr>\n",
       "      <th>Mouse</th>\n",
       "      <td>497</td>\n",
       "      <td>500</td>\n",
       "      <td>489</td>\n",
       "      <td>0</td>\n",
       "      <td>1092</td>\n",
       "      <td>1102</td>\n",
       "      <td>1014</td>\n",
       "      <td>967</td>\n",
       "      <td>965</td>\n",
       "    </tr>\n",
       "    <tr>\n",
       "      <th>Dog</th>\n",
       "      <td>1081</td>\n",
       "      <td>1084</td>\n",
       "      <td>1073</td>\n",
       "      <td>1092</td>\n",
       "      <td>0</td>\n",
       "      <td>818</td>\n",
       "      <td>1056</td>\n",
       "      <td>1053</td>\n",
       "      <td>1051</td>\n",
       "    </tr>\n",
       "    <tr>\n",
       "      <th>Cat</th>\n",
       "      <td>1091</td>\n",
       "      <td>1094</td>\n",
       "      <td>1083</td>\n",
       "      <td>1102</td>\n",
       "      <td>818</td>\n",
       "      <td>0</td>\n",
       "      <td>1066</td>\n",
       "      <td>1063</td>\n",
       "      <td>1061</td>\n",
       "    </tr>\n",
       "    <tr>\n",
       "      <th>Turkey</th>\n",
       "      <td>1003</td>\n",
       "      <td>1006</td>\n",
       "      <td>995</td>\n",
       "      <td>1014</td>\n",
       "      <td>1056</td>\n",
       "      <td>1066</td>\n",
       "      <td>0</td>\n",
       "      <td>975</td>\n",
       "      <td>973</td>\n",
       "    </tr>\n",
       "    <tr>\n",
       "      <th>Civet</th>\n",
       "      <td>956</td>\n",
       "      <td>959</td>\n",
       "      <td>948</td>\n",
       "      <td>967</td>\n",
       "      <td>1053</td>\n",
       "      <td>1063</td>\n",
       "      <td>975</td>\n",
       "      <td>0</td>\n",
       "      <td>16</td>\n",
       "    </tr>\n",
       "    <tr>\n",
       "      <th>Human</th>\n",
       "      <td>954</td>\n",
       "      <td>957</td>\n",
       "      <td>946</td>\n",
       "      <td>965</td>\n",
       "      <td>1051</td>\n",
       "      <td>1061</td>\n",
       "      <td>973</td>\n",
       "      <td>16</td>\n",
       "      <td>0</td>\n",
       "    </tr>\n",
       "  </tbody>\n",
       "</table>\n",
       "</div>"
      ],
      "text/plain": [
       "         Cow   Pig  Horse  Mouse   Dog   Cat  Turkey  Civet  Human\n",
       "Cow        0   295    306    497  1081  1091    1003    956    954\n",
       "Pig      295     0    309    500  1084  1094    1006    959    957\n",
       "Horse    306   309      0    489  1073  1083     995    948    946\n",
       "Mouse    497   500    489      0  1092  1102    1014    967    965\n",
       "Dog     1081  1084   1073   1092     0   818    1056   1053   1051\n",
       "Cat     1091  1094   1083   1102   818     0    1066   1063   1061\n",
       "Turkey  1003  1006    995   1014  1056  1066       0    975    973\n",
       "Civet    956   959    948    967  1053  1063     975      0     16\n",
       "Human    954   957    946    965  1051  1061     973     16      0"
      ]
     },
     "execution_count": 49,
     "metadata": {},
     "output_type": "execute_result"
    }
   ],
   "source": [
    "import os.path\n",
    "\n",
    "file = None\n",
    "locations = ['../data/coronavirus_distance_matrix_additive.txt','../csc-448-student/data/coronavirus_distance_matrix_additive.txt']\n",
    "for f in locations:\n",
    "    if os.path.isfile(f):\n",
    "        file = f\n",
    "        break\n",
    "print('Opening',file)\n",
    "D_sars = pd.read_csv(file,index_col=0)\n",
    "D_sars"
   ]
  },
  {
   "cell_type": "code",
   "execution_count": 50,
   "metadata": {
    "slideshow": {
     "slide_type": "subslide"
    }
   },
   "outputs": [
    {
     "name": "stdout",
     "output_type": "stream",
     "text": [
      "Horse Cow Pig\n",
      "Mouse Cow Horse\n",
      "Dog Cow Mouse\n",
      "Cat Cow Dog\n",
      "Turkey Cow Dog\n",
      "Civet Cow Dog\n",
      "Human Cow Civet\n"
     ]
    },
    {
     "data": {
      "image/png": "[encoded data removed]",
      "text/plain": [
       "<Figure size 720x360 with 1 Axes>"
      ]
     },
     "metadata": {},
     "output_type": "display_data"
    }
   ],
   "source": [
    "from pylab import rcParams\n",
    "rcParams['figure.figsize'] = 10, 5\n",
    "\n",
    "G3 = additive_phylogeny(D_sars,len(D_sars)+1)\n",
    "show(G3)"
   ]
  },
  {
   "cell_type": "code",
   "execution_count": 51,
   "metadata": {
    "slideshow": {
     "slide_type": "skip"
    }
   },
   "outputs": [
    {
     "data": {
      "text/html": [
       "<div>\n",
       "<style scoped>\n",
       "    .dataframe tbody tr th:only-of-type {\n",
       "        vertical-align: middle;\n",
       "    }\n",
       "\n",
       "    .dataframe tbody tr th {\n",
       "        vertical-align: top;\n",
       "    }\n",
       "\n",
       "    .dataframe thead th {\n",
       "        text-align: right;\n",
       "    }\n",
       "</style>\n",
       "<table border=\"1\" class=\"dataframe\">\n",
       "  <thead>\n",
       "    <tr style=\"text-align: right;\">\n",
       "      <th></th>\n",
       "      <th>Cow</th>\n",
       "      <th>Pig</th>\n",
       "      <th>v16</th>\n",
       "      <th>Horse</th>\n",
       "      <th>v15</th>\n",
       "      <th>Mouse</th>\n",
       "      <th>v14</th>\n",
       "      <th>Dog</th>\n",
       "      <th>v13</th>\n",
       "      <th>Cat</th>\n",
       "      <th>v12</th>\n",
       "      <th>Turkey</th>\n",
       "      <th>v11</th>\n",
       "      <th>Civet</th>\n",
       "      <th>v10</th>\n",
       "      <th>Human</th>\n",
       "    </tr>\n",
       "  </thead>\n",
       "  <tbody>\n",
       "    <tr>\n",
       "      <th>Cow</th>\n",
       "      <td>0.0</td>\n",
       "      <td>0.0</td>\n",
       "      <td>146.0</td>\n",
       "      <td>0.0</td>\n",
       "      <td>0.0</td>\n",
       "      <td>0.0</td>\n",
       "      <td>0.0</td>\n",
       "      <td>0.0</td>\n",
       "      <td>0.0</td>\n",
       "      <td>0.0</td>\n",
       "      <td>0.0</td>\n",
       "      <td>0.0</td>\n",
       "      <td>0.0</td>\n",
       "      <td>0.0</td>\n",
       "      <td>0.0</td>\n",
       "      <td>0.0</td>\n",
       "    </tr>\n",
       "    <tr>\n",
       "      <th>Pig</th>\n",
       "      <td>0.0</td>\n",
       "      <td>0.0</td>\n",
       "      <td>149.0</td>\n",
       "      <td>0.0</td>\n",
       "      <td>0.0</td>\n",
       "      <td>0.0</td>\n",
       "      <td>0.0</td>\n",
       "      <td>0.0</td>\n",
       "      <td>0.0</td>\n",
       "      <td>0.0</td>\n",
       "      <td>0.0</td>\n",
       "      <td>0.0</td>\n",
       "      <td>0.0</td>\n",
       "      <td>0.0</td>\n",
       "      <td>0.0</td>\n",
       "      <td>0.0</td>\n",
       "    </tr>\n",
       "    <tr>\n",
       "      <th>v16</th>\n",
       "      <td>146.0</td>\n",
       "      <td>149.0</td>\n",
       "      <td>0.0</td>\n",
       "      <td>0.0</td>\n",
       "      <td>11.0</td>\n",
       "      <td>0.0</td>\n",
       "      <td>0.0</td>\n",
       "      <td>0.0</td>\n",
       "      <td>0.0</td>\n",
       "      <td>0.0</td>\n",
       "      <td>0.0</td>\n",
       "      <td>0.0</td>\n",
       "      <td>0.0</td>\n",
       "      <td>0.0</td>\n",
       "      <td>0.0</td>\n",
       "      <td>0.0</td>\n",
       "    </tr>\n",
       "    <tr>\n",
       "      <th>Horse</th>\n",
       "      <td>0.0</td>\n",
       "      <td>0.0</td>\n",
       "      <td>0.0</td>\n",
       "      <td>0.0</td>\n",
       "      <td>149.0</td>\n",
       "      <td>0.0</td>\n",
       "      <td>0.0</td>\n",
       "      <td>0.0</td>\n",
       "      <td>0.0</td>\n",
       "      <td>0.0</td>\n",
       "      <td>0.0</td>\n",
       "      <td>0.0</td>\n",
       "      <td>0.0</td>\n",
       "      <td>0.0</td>\n",
       "      <td>0.0</td>\n",
       "      <td>0.0</td>\n",
       "    </tr>\n",
       "    <tr>\n",
       "      <th>v15</th>\n",
       "      <td>0.0</td>\n",
       "      <td>0.0</td>\n",
       "      <td>11.0</td>\n",
       "      <td>149.0</td>\n",
       "      <td>0.0</td>\n",
       "      <td>0.0</td>\n",
       "      <td>86.0</td>\n",
       "      <td>0.0</td>\n",
       "      <td>0.0</td>\n",
       "      <td>0.0</td>\n",
       "      <td>0.0</td>\n",
       "      <td>0.0</td>\n",
       "      <td>0.0</td>\n",
       "      <td>0.0</td>\n",
       "      <td>0.0</td>\n",
       "      <td>0.0</td>\n",
       "    </tr>\n",
       "    <tr>\n",
       "      <th>Mouse</th>\n",
       "      <td>0.0</td>\n",
       "      <td>0.0</td>\n",
       "      <td>0.0</td>\n",
       "      <td>0.0</td>\n",
       "      <td>0.0</td>\n",
       "      <td>0.0</td>\n",
       "      <td>254.0</td>\n",
       "      <td>0.0</td>\n",
       "      <td>0.0</td>\n",
       "      <td>0.0</td>\n",
       "      <td>0.0</td>\n",
       "      <td>0.0</td>\n",
       "      <td>0.0</td>\n",
       "      <td>0.0</td>\n",
       "      <td>0.0</td>\n",
       "      <td>0.0</td>\n",
       "    </tr>\n",
       "    <tr>\n",
       "      <th>v14</th>\n",
       "      <td>0.0</td>\n",
       "      <td>0.0</td>\n",
       "      <td>0.0</td>\n",
       "      <td>0.0</td>\n",
       "      <td>86.0</td>\n",
       "      <td>254.0</td>\n",
       "      <td>0.0</td>\n",
       "      <td>0.0</td>\n",
       "      <td>0.0</td>\n",
       "      <td>0.0</td>\n",
       "      <td>0.0</td>\n",
       "      <td>0.0</td>\n",
       "      <td>249.0</td>\n",
       "      <td>0.0</td>\n",
       "      <td>0.0</td>\n",
       "      <td>0.0</td>\n",
       "    </tr>\n",
       "    <tr>\n",
       "      <th>Dog</th>\n",
       "      <td>0.0</td>\n",
       "      <td>0.0</td>\n",
       "      <td>0.0</td>\n",
       "      <td>0.0</td>\n",
       "      <td>0.0</td>\n",
       "      <td>0.0</td>\n",
       "      <td>0.0</td>\n",
       "      <td>0.0</td>\n",
       "      <td>404.0</td>\n",
       "      <td>0.0</td>\n",
       "      <td>0.0</td>\n",
       "      <td>0.0</td>\n",
       "      <td>0.0</td>\n",
       "      <td>0.0</td>\n",
       "      <td>0.0</td>\n",
       "      <td>0.0</td>\n",
       "    </tr>\n",
       "    <tr>\n",
       "      <th>v13</th>\n",
       "      <td>0.0</td>\n",
       "      <td>0.0</td>\n",
       "      <td>0.0</td>\n",
       "      <td>0.0</td>\n",
       "      <td>0.0</td>\n",
       "      <td>0.0</td>\n",
       "      <td>0.0</td>\n",
       "      <td>404.0</td>\n",
       "      <td>0.0</td>\n",
       "      <td>414.0</td>\n",
       "      <td>163.0</td>\n",
       "      <td>0.0</td>\n",
       "      <td>0.0</td>\n",
       "      <td>0.0</td>\n",
       "      <td>0.0</td>\n",
       "      <td>0.0</td>\n",
       "    </tr>\n",
       "    <tr>\n",
       "      <th>Cat</th>\n",
       "      <td>0.0</td>\n",
       "      <td>0.0</td>\n",
       "      <td>0.0</td>\n",
       "      <td>0.0</td>\n",
       "      <td>0.0</td>\n",
       "      <td>0.0</td>\n",
       "      <td>0.0</td>\n",
       "      <td>0.0</td>\n",
       "      <td>414.0</td>\n",
       "      <td>0.0</td>\n",
       "      <td>0.0</td>\n",
       "      <td>0.0</td>\n",
       "      <td>0.0</td>\n",
       "      <td>0.0</td>\n",
       "      <td>0.0</td>\n",
       "      <td>0.0</td>\n",
       "    </tr>\n",
       "    <tr>\n",
       "      <th>v12</th>\n",
       "      <td>0.0</td>\n",
       "      <td>0.0</td>\n",
       "      <td>0.0</td>\n",
       "      <td>0.0</td>\n",
       "      <td>0.0</td>\n",
       "      <td>0.0</td>\n",
       "      <td>0.0</td>\n",
       "      <td>0.0</td>\n",
       "      <td>163.0</td>\n",
       "      <td>0.0</td>\n",
       "      <td>0.0</td>\n",
       "      <td>489.0</td>\n",
       "      <td>22.0</td>\n",
       "      <td>0.0</td>\n",
       "      <td>0.0</td>\n",
       "      <td>0.0</td>\n",
       "    </tr>\n",
       "    <tr>\n",
       "      <th>Turkey</th>\n",
       "      <td>0.0</td>\n",
       "      <td>0.0</td>\n",
       "      <td>0.0</td>\n",
       "      <td>0.0</td>\n",
       "      <td>0.0</td>\n",
       "      <td>0.0</td>\n",
       "      <td>0.0</td>\n",
       "      <td>0.0</td>\n",
       "      <td>0.0</td>\n",
       "      <td>0.0</td>\n",
       "      <td>489.0</td>\n",
       "      <td>0.0</td>\n",
       "      <td>0.0</td>\n",
       "      <td>0.0</td>\n",
       "      <td>0.0</td>\n",
       "      <td>0.0</td>\n",
       "    </tr>\n",
       "    <tr>\n",
       "      <th>v11</th>\n",
       "      <td>0.0</td>\n",
       "      <td>0.0</td>\n",
       "      <td>0.0</td>\n",
       "      <td>0.0</td>\n",
       "      <td>0.0</td>\n",
       "      <td>0.0</td>\n",
       "      <td>249.0</td>\n",
       "      <td>0.0</td>\n",
       "      <td>0.0</td>\n",
       "      <td>0.0</td>\n",
       "      <td>22.0</td>\n",
       "      <td>0.0</td>\n",
       "      <td>0.0</td>\n",
       "      <td>0.0</td>\n",
       "      <td>455.0</td>\n",
       "      <td>0.0</td>\n",
       "    </tr>\n",
       "    <tr>\n",
       "      <th>Civet</th>\n",
       "      <td>0.0</td>\n",
       "      <td>0.0</td>\n",
       "      <td>0.0</td>\n",
       "      <td>0.0</td>\n",
       "      <td>0.0</td>\n",
       "      <td>0.0</td>\n",
       "      <td>0.0</td>\n",
       "      <td>0.0</td>\n",
       "      <td>0.0</td>\n",
       "      <td>0.0</td>\n",
       "      <td>0.0</td>\n",
       "      <td>0.0</td>\n",
       "      <td>0.0</td>\n",
       "      <td>0.0</td>\n",
       "      <td>9.0</td>\n",
       "      <td>0.0</td>\n",
       "    </tr>\n",
       "    <tr>\n",
       "      <th>v10</th>\n",
       "      <td>0.0</td>\n",
       "      <td>0.0</td>\n",
       "      <td>0.0</td>\n",
       "      <td>0.0</td>\n",
       "      <td>0.0</td>\n",
       "      <td>0.0</td>\n",
       "      <td>0.0</td>\n",
       "      <td>0.0</td>\n",
       "      <td>0.0</td>\n",
       "      <td>0.0</td>\n",
       "      <td>0.0</td>\n",
       "      <td>0.0</td>\n",
       "      <td>455.0</td>\n",
       "      <td>9.0</td>\n",
       "      <td>0.0</td>\n",
       "      <td>7.0</td>\n",
       "    </tr>\n",
       "    <tr>\n",
       "      <th>Human</th>\n",
       "      <td>0.0</td>\n",
       "      <td>0.0</td>\n",
       "      <td>0.0</td>\n",
       "      <td>0.0</td>\n",
       "      <td>0.0</td>\n",
       "      <td>0.0</td>\n",
       "      <td>0.0</td>\n",
       "      <td>0.0</td>\n",
       "      <td>0.0</td>\n",
       "      <td>0.0</td>\n",
       "      <td>0.0</td>\n",
       "      <td>0.0</td>\n",
       "      <td>0.0</td>\n",
       "      <td>0.0</td>\n",
       "      <td>7.0</td>\n",
       "      <td>0.0</td>\n",
       "    </tr>\n",
       "  </tbody>\n",
       "</table>\n",
       "</div>"
      ],
      "text/plain": [
       "          Cow    Pig    v16  Horse    v15  Mouse    v14    Dog    v13    Cat  \\\n",
       "Cow       0.0    0.0  146.0    0.0    0.0    0.0    0.0    0.0    0.0    0.0   \n",
       "Pig       0.0    0.0  149.0    0.0    0.0    0.0    0.0    0.0    0.0    0.0   \n",
       "v16     146.0  149.0    0.0    0.0   11.0    0.0    0.0    0.0    0.0    0.0   \n",
       "Horse     0.0    0.0    0.0    0.0  149.0    0.0    0.0    0.0    0.0    0.0   \n",
       "v15       0.0    0.0   11.0  149.0    0.0    0.0   86.0    0.0    0.0    0.0   \n",
       "Mouse     0.0    0.0    0.0    0.0    0.0    0.0  254.0    0.0    0.0    0.0   \n",
       "v14       0.0    0.0    0.0    0.0   86.0  254.0    0.0    0.0    0.0    0.0   \n",
       "Dog       0.0    0.0    0.0    0.0    0.0    0.0    0.0    0.0  404.0    0.0   \n",
       "v13       0.0    0.0    0.0    0.0    0.0    0.0    0.0  404.0    0.0  414.0   \n",
       "Cat       0.0    0.0    0.0    0.0    0.0    0.0    0.0    0.0  414.0    0.0   \n",
       "v12       0.0    0.0    0.0    0.0    0.0    0.0    0.0    0.0  163.0    0.0   \n",
       "Turkey    0.0    0.0    0.0    0.0    0.0    0.0    0.0    0.0    0.0    0.0   \n",
       "v11       0.0    0.0    0.0    0.0    0.0    0.0  249.0    0.0    0.0    0.0   \n",
       "Civet     0.0    0.0    0.0    0.0    0.0    0.0    0.0    0.0    0.0    0.0   \n",
       "v10       0.0    0.0    0.0    0.0    0.0    0.0    0.0    0.0    0.0    0.0   \n",
       "Human     0.0    0.0    0.0    0.0    0.0    0.0    0.0    0.0    0.0    0.0   \n",
       "\n",
       "          v12  Turkey    v11  Civet    v10  Human  \n",
       "Cow       0.0     0.0    0.0    0.0    0.0    0.0  \n",
       "Pig       0.0     0.0    0.0    0.0    0.0    0.0  \n",
       "v16       0.0     0.0    0.0    0.0    0.0    0.0  \n",
       "Horse     0.0     0.0    0.0    0.0    0.0    0.0  \n",
       "v15       0.0     0.0    0.0    0.0    0.0    0.0  \n",
       "Mouse     0.0     0.0    0.0    0.0    0.0    0.0  \n",
       "v14       0.0     0.0  249.0    0.0    0.0    0.0  \n",
       "Dog       0.0     0.0    0.0    0.0    0.0    0.0  \n",
       "v13     163.0     0.0    0.0    0.0    0.0    0.0  \n",
       "Cat       0.0     0.0    0.0    0.0    0.0    0.0  \n",
       "v12       0.0   489.0   22.0    0.0    0.0    0.0  \n",
       "Turkey  489.0     0.0    0.0    0.0    0.0    0.0  \n",
       "v11      22.0     0.0    0.0    0.0  455.0    0.0  \n",
       "Civet     0.0     0.0    0.0    0.0    9.0    0.0  \n",
       "v10       0.0     0.0  455.0    9.0    0.0    7.0  \n",
       "Human     0.0     0.0    0.0    0.0    7.0    0.0  "
      ]
     },
     "execution_count": 51,
     "metadata": {},
     "output_type": "execute_result"
    }
   ],
   "source": [
    "show_adj(G3)"
   ]
  },
  {
   "cell_type": "markdown",
   "metadata": {
    "slideshow": {
     "slide_type": "skip"
    }
   },
   "source": [
    "**Helper function to check things out**"
   ]
  },
  {
   "cell_type": "code",
   "execution_count": 52,
   "metadata": {
    "slideshow": {
     "slide_type": "skip"
    }
   },
   "outputs": [],
   "source": [
    "def compute_path_cost(T,i,k):\n",
    "    cost = 0\n",
    "    try:\n",
    "        path = list(nx.all_simple_paths(T,i,k))[0]\n",
    "    except:\n",
    "        return -1\n",
    "    a = path[0]\n",
    "    cost = 0\n",
    "    A = show_adj(G3)\n",
    "    for b in path[1:]:\n",
    "        cost += A.loc[a,b]\n",
    "        a = b\n",
    "    return cost"
   ]
  },
  {
   "cell_type": "code",
   "execution_count": 53,
   "metadata": {
    "slideshow": {
     "slide_type": "skip"
    }
   },
   "outputs": [
    {
     "data": {
      "text/plain": [
       "973.0"
      ]
     },
     "execution_count": 53,
     "metadata": {},
     "output_type": "execute_result"
    }
   ],
   "source": [
    "compute_path_cost(G3,'Human','Turkey')"
   ]
  },
  {
   "cell_type": "code",
   "execution_count": 54,
   "metadata": {
    "slideshow": {
     "slide_type": "fragment"
    }
   },
   "outputs": [
    {
     "data": {
      "text/plain": [
       "True"
      ]
     },
     "execution_count": 54,
     "metadata": {},
     "output_type": "execute_result"
    }
   ],
   "source": [
    "compute_path_cost(G3,'Human','Turkey') == D_sars.loc['Human','Turkey']"
   ]
  },
  {
   "cell_type": "code",
   "execution_count": 55,
   "metadata": {
    "slideshow": {
     "slide_type": "skip"
    }
   },
   "outputs": [],
   "source": [
    "# Don't forget to push!"
   ]
  },
  {
   "cell_type": "code",
   "execution_count": null,
   "metadata": {},
   "outputs": [],
   "source": []
  },
  {
   "cell_type": "code",
   "execution_count": null,
   "metadata": {},
   "outputs": [],
   "source": []
  }
 ],
 "metadata": {
  "celltoolbar": "Slideshow",
  "jupytext": {
   "formats": "ipynb,md,py"
  },
  "kernelspec": {
   "display_name": "Python 3",
   "language": "python",
   "name": "python3"
  },
  "language_info": {
   "codemirror_mode": {
    "name": "ipython",
    "version": 3
   },
   "file_extension": ".py",
   "mimetype": "text/x-python",
   "name": "python",
   "nbconvert_exporter": "python",
   "pygments_lexer": "ipython3",
   "version": "3.7.3"
  }
 },
 "nbformat": 4,
 "nbformat_minor": 4
}
