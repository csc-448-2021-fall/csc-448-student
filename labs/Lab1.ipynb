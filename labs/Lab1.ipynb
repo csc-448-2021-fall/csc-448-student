{
 "cells": [
  {
   "cell_type": "markdown",
   "metadata": {
    "hideCode": false,
    "hidePrompt": false,
    "slideshow": {
     "slide_type": "slide"
    }
   },
   "source": [
    "# Origin of Genome Replication\n",
    "\n",
    "In this lab, we will:\n",
    "1. Verify that your solutions for exercises in Topic 1 are implemented correctly\n",
    "2. Extend these solutions\n",
    "3. Apply them to scenarios of both success and failure"
   ]
  },
  {
   "cell_type": "markdown",
   "metadata": {},
   "source": [
    "## Verifying solutions to Topic 1 are correct\n",
    "Please see Topic1 notebook for detailed information. You must copy Topic1_helper.py to this folder for these commands to work."
   ]
  },
  {
   "cell_type": "code",
   "execution_count": 12,
   "metadata": {
    "hideCode": false,
    "hidePrompt": false,
    "slideshow": {
     "slide_type": "skip"
    }
   },
   "outputs": [
    {
     "name": "stdout",
     "output_type": "stream",
     "text": [
      "The autoreload extension is already loaded. To reload it, use:\n",
      "  %reload_ext autoreload\n"
     ]
    }
   ],
   "source": [
    "%load_ext autoreload\n",
    "%autoreload 2\n",
    "\n",
    "\n",
    "import pandas as pd\n",
    "import numpy as np\n",
    "\n",
    "# Put all your solutions into Lab1_helper.py as this is the script which is autograded\n",
    "import Lab1_helper \n",
    "import Topic1_helper\n",
    "\n",
    "from pathlib import Path\n",
    "home = str(Path.home()) # all other paths are relative to this path. \n",
    "# This is not relevant to most people because I recommended you use my server, but\n",
    "# change home to where you are storing everything. Again. Not recommended."
   ]
  },
  {
   "cell_type": "code",
   "execution_count": 13,
   "metadata": {},
   "outputs": [
    {
     "data": {
      "text/plain": [
       "3"
      ]
     },
     "execution_count": 13,
     "metadata": {},
     "output_type": "execute_result"
    }
   ],
   "source": [
    "Topic1_helper.count(\"ACAACTATGCATACTATCGGGAACTATCCT\",\"ACTAT\")"
   ]
  },
  {
   "cell_type": "code",
   "execution_count": 14,
   "metadata": {},
   "outputs": [
    {
     "name": "stdout",
     "output_type": "stream",
     "text": [
      "(['ACTAT'], 3)\n",
      "(['ACTA', 'CTAT'], 3)\n"
     ]
    }
   ],
   "source": [
    "print(Topic1_helper.frequent_words(\"ACAACTATGCATACTATCGGGAACTATCCT\",5))\n",
    "print(Topic1_helper.frequent_words(\"ACAACTATGCATACTATCGGGAACTATCCT\",4))"
   ]
  },
  {
   "cell_type": "code",
   "execution_count": 15,
   "metadata": {},
   "outputs": [
    {
     "data": {
      "text/plain": [
       "'actg'"
      ]
     },
     "execution_count": 15,
     "metadata": {},
     "output_type": "execute_result"
    }
   ],
   "source": [
    "Topic1_helper.reverse_complement(\"cagt\")"
   ]
  },
  {
   "cell_type": "code",
   "execution_count": 16,
   "metadata": {},
   "outputs": [
    {
     "data": {
      "text/plain": [
       "atc    21\n",
       "tca    17\n",
       "caa    12\n",
       "aat    10\n",
       "atg    15\n",
       "       ..\n",
       "gcg     4\n",
       "ggg     1\n",
       "cga     7\n",
       "ccg     3\n",
       "ccc     1\n",
       "Length: 64, dtype: int64"
      ]
     },
     "execution_count": 16,
     "metadata": {},
     "output_type": "execute_result"
    }
   ],
   "source": [
    "text = \"atcaatgatcaacgtaagcttctaagcatgatcaaggtgctcacacagtttatccacaacctgagtggatgacatcaagataggtcgttgtatctccttcctctcgtactctcatgaccacggaaagatgatcaagagaggatgatttcttggccatatcgcaatgaatacttgtgacttgtgcttccaattgacatcttcagcgccatattgcgctggccaaggtgacggagcgggattacgaaagcatgatcatggctgttgttctgtttatcttgttttgactgagacttgttaggatagacggtttttcatcactgactagccaaagccttactctgcctgacatcgaccgtaaattgataatgaatttacatgcttccgcgacgatttacctcttgatcatcgatccgattgaagatcttcaattgttaattctcttgcctcgactcatagccatgatgagctcttgatcatgtttccttaaccctctattttttacggaagaatgatcaagctgctgctcttgatcatcgtttc\"\n",
    "freq_map = Topic1_helper.frequency_table(text,3)\n",
    "pd.Series(freq_map)"
   ]
  },
  {
   "cell_type": "code",
   "execution_count": 17,
   "metadata": {},
   "outputs": [
    {
     "data": {
      "text/plain": [
       "(['atgatcaag', 'ctcttgatc', 'tcttgatca', 'cttgatcat'], 3)"
      ]
     },
     "execution_count": 17,
     "metadata": {},
     "output_type": "execute_result"
    }
   ],
   "source": [
    "Topic1_helper.better_frequent_words(text,9)"
   ]
  },
  {
   "cell_type": "code",
   "execution_count": 18,
   "metadata": {},
   "outputs": [
    {
     "data": {
      "text/plain": [
       "0             0\n",
       "1             0\n",
       "2             1\n",
       "3             0\n",
       "4             0\n",
       "           ... \n",
       "4639671   -2630\n",
       "4639672   -2630\n",
       "4639673   -2630\n",
       "4639674   -2630\n",
       "4639675   -2631\n",
       "Length: 4639676, dtype: int64"
      ]
     },
     "execution_count": 18,
     "metadata": {},
     "output_type": "execute_result"
    }
   ],
   "source": [
    "data = pd.read_table(\"http://bioinformaticsalgorithms.com/data/realdatasets/Rearrangements/E_coli.txt\",header=None)\n",
    "genome = data.values[0,0]\n",
    "skews = Topic1_helper.skew(genome)\n",
    "skews = pd.Series(Topic1_helper.skew(genome))\n",
    "skews"
   ]
  },
  {
   "cell_type": "code",
   "execution_count": 19,
   "metadata": {},
   "outputs": [
    {
     "data": {
      "image/png": "[encoded data removed]",
      "text/plain": [
       "<Figure size 432x288 with 1 Axes>"
      ]
     },
     "metadata": {
      "needs_background": "light"
     },
     "output_type": "display_data"
    }
   ],
   "source": [
    "%matplotlib inline\n",
    "skews.plot.line();"
   ]
  },
  {
   "cell_type": "markdown",
   "metadata": {},
   "source": [
    "## Moving past prokaryotic organisms\n",
    "\n",
    "We developed a bioinformatics algorithm that at a glance seems to detect origin sequences in a genome, but a closer inspection reveals that we have only tested this algorithm for a single prokaryotic organism. This *skew* algorithm will perform well on organisms with cirucular chromosomes, but what happens when we try it on an organism with linear chromosomes? Let's take a look at Yeast. \n",
    "\n",
    "### Yeast Origin Database\n",
    "It is a difficult biological question when you consider more complicated genomes. Even genomes that are well studied such as Yeast. Here is a link to a database with origin sequences: \n",
    "\n",
    "http://cerevisiae.oridb.org/search.php?chr=all&confirmed=true&likely=true&dubious=true&name= \n",
    "\n",
    "Notice anything? I notice the number of confirmed and likely origin locations on each chromosome. Oh yeah. We are now dealing with multiple chromosomes as well of course. Let's see how our algorithm does on this data. \n",
    "\n",
    "This is a good time to talk about file formats. Bioinformatics loves file formats and they often are not everything we would desire. A common sequence format is called a FASTA file. I have downloaded the Yeast genome for us, and we can take a look at the top:"
   ]
  },
  {
   "cell_type": "code",
   "execution_count": null,
   "metadata": {},
   "outputs": [],
   "source": [
    "!head {home}/csc-448-student/data/GCF_000146045.2_R64_genomic.fna"
   ]
  },
  {
   "cell_type": "markdown",
   "metadata": {},
   "source": [
    "<a href=\"https://www.ncbi.nlm.nih.gov/projects/sviewer/?id=NC_004070.1&v=1088..2241&mk=1588:1741|oriC|\">Genome</a>"
   ]
  },
  {
   "cell_type": "code",
   "execution_count": null,
   "metadata": {},
   "outputs": [],
   "source": []
  },
  {
   "cell_type": "code",
   "execution_count": 30,
   "metadata": {},
   "outputs": [
    {
     "name": "stdout",
     "output_type": "stream",
     "text": [
      ">ref|NC_004070.1|:1088-2241 Streptococcus pyogenes MGAS315, complete sequence\n",
      "CTATTTTGACAAATAAAATTCAAGAATATAACTTTATTTTTCCTCAAGATACCATTGAGTATTTGGCTGG\n",
      "TCAATTTGATTCTAATGTCAGAGATTTAGAAGGTGCCTTAAAAGATATTAGTCTGGTTGCTAATTTCAAA\n",
      "CAAATTGACACGATTACTGTTGACATTGCTGCCGAAGCTATTCGCGCCAGAAAGCAAGATGGACCTAAAA\n",
      "TGACAGTTATTCCCATCGAAGAAATTCAAGCGCAAGTTGGAAAATTTTACGGTGTTACCGTCAAAGAAAT\n",
      "TAAAGCTACTAAACGAACACAAAATATTGTTTTAGCAAGACAAGTAGCTATGTTTTTAGCACGTGAAATG\n",
      "ACAGATAACAGTCTTCCTAAAATTGGAAAAGAATTTGGTGGCAGAGACCATTCAACAGTACTCCATGCCT\n",
      "ATAATAAAATCAAAAACATGATCAGCCAGGACGAAAGCCTTAGGATCGAAATTGAAACCATAAAAAACAA\n",
      "AATTAAATAACATGTGGAAAAGAATATCTTTTATGAAATAGTTATCCACAAGTTGTGAACAACCATTTAG\n",
      "TCTTGGATTCTCTCGTTTATTTAGAGTTATCCACTATATACACAAGACCTACTACTACTACTTATTATTA\n"
     ]
    }
   ],
   "source": [
    "!head {home}/csc-448-student/data/"
   ]
  },
  {
   "cell_type": "markdown",
   "metadata": {},
   "source": [
    "**Exercise 1.** Write a function that computes the average length of a Yeast chromosome."
   ]
  },
  {
   "cell_type": "code",
   "execution_count": 32,
   "metadata": {},
   "outputs": [
    {
     "data": {
      "text/plain": [
       "(1, 1154.0)"
      ]
     },
     "execution_count": 32,
     "metadata": {},
     "output_type": "execute_result"
    }
   ],
   "source": [
    "from Bio import SeqIO\n",
    "\n",
    "fasta_sequences = SeqIO.parse(open(f\"{home}/csc-448-student/data/NC_004070.1_1088..2241.fa\"),'fasta')\n",
    "s = 0\n",
    "l = 0\n",
    "chromosomes = []\n",
    "for fasta in fasta_sequences:\n",
    "    chromosomes.append(str(fasta.seq))\n",
    "    s += len(str(fasta.seq))\n",
    "    l += 1\n",
    "    #name, sequence = fasta.id, str(fasta.seq)\n",
    "l,s/l"
   ]
  },
  {
   "cell_type": "code",
   "execution_count": 35,
   "metadata": {},
   "outputs": [
    {
     "data": {
      "image/png": "[encoded data removed]",
      "text/plain": [
       "<Figure size 432x288 with 1 Axes>"
      ]
     },
     "metadata": {
      "needs_background": "light"
     },
     "output_type": "display_data"
    }
   ],
   "source": [
    "import Topic1_helper\n",
    "import pandas as pd\n",
    "ch = str(chromosomes[0])\n",
    "skews = pd.Series(Topic1_helper.skew(ch))\n",
    "skews.plot.line();"
   ]
  },
  {
   "cell_type": "code",
   "execution_count": 23,
   "metadata": {},
   "outputs": [
    {
     "data": {
      "text/plain": [
       "0.39270170012770506"
      ]
     },
     "execution_count": 23,
     "metadata": {},
     "output_type": "execute_result"
    }
   ],
   "source": [
    "def gc_content(seq):\n",
    "    count = 0\n",
    "    for c in seq:\n",
    "        if c.lower() == \"g\" or c.lower() == \"c\":\n",
    "            count += 1\n",
    "    return count/len(seq)\n",
    "gc_content(ch)"
   ]
  },
  {
   "cell_type": "code",
   "execution_count": 24,
   "metadata": {},
   "outputs": [
    {
     "data": {
      "text/plain": [
       "0.3426818580192813"
      ]
     },
     "execution_count": 24,
     "metadata": {},
     "output_type": "execute_result"
    }
   ],
   "source": [
    "gc_content(ch[650:1791])"
   ]
  },
  {
   "cell_type": "code",
   "execution_count": 25,
   "metadata": {},
   "outputs": [
    {
     "data": {
      "text/plain": [
       "0.303"
      ]
     },
     "execution_count": 25,
     "metadata": {},
     "output_type": "execute_result"
    }
   ],
   "source": [
    "gc_content(ch[6136:7136])"
   ]
  },
  {
   "cell_type": "code",
   "execution_count": 26,
   "metadata": {},
   "outputs": [
    {
     "data": {
      "text/plain": [
       "0.3836363636363636"
      ]
     },
     "execution_count": 26,
     "metadata": {},
     "output_type": "execute_result"
    }
   ],
   "source": [
    "gc_content(ch[7998:8548])"
   ]
  },
  {
   "cell_type": "markdown",
   "metadata": {},
   "source": [
    "Confirmed\tI-1\tARS102\tproARS102\t1\t650\t1791\n",
    "Confirmed\tI-7\tARS102.5\tproARS103\t1\t6136\t7136\n",
    "Confirmed\tI-8\tARS103\tproARS103\t1\t7998\t8548"
   ]
  },
  {
   "cell_type": "markdown",
   "metadata": {
    "hideCode": false,
    "hidePrompt": false,
    "slideshow": {
     "slide_type": "subslide"
    }
   },
   "source": [
    "**Exercise 1.**\n",
    "A *k*-mer is a string of length ``k``. For this exercise, define a function ``count(text, pattern)`` as the number of times that a k-mer ``pattern`` appears as a substring of ``text``. For example,\n",
    "\n",
    "For example:\n",
    "<pre>\n",
    "count(\"ACAACTATGCATACTATCGGGAACTATCCT\",\"ACTAT\")=3.\n",
    "</pre>\n",
    "Please note that count(\"CGATATATCCATAG\", \"ATA\") is equal to 3 (not 2) since we should account for overlapping occurrences of ``pattern`` in ``text``."
   ]
  },
  {
   "cell_type": "code",
   "execution_count": 2,
   "metadata": {
    "hideCode": false,
    "hidePrompt": false,
    "slideshow": {
     "slide_type": "fragment"
    }
   },
   "outputs": [],
   "source": [
    "def count(text,pattern):\n",
    "    count = 0\n",
    "    # YOUR SOLUTION HERE\n",
    "    return count"
   ]
  },
  {
   "cell_type": "code",
   "execution_count": 3,
   "metadata": {
    "hideCode": false,
    "hidePrompt": false,
    "slideshow": {
     "slide_type": "skip"
    }
   },
   "outputs": [
    {
     "data": {
      "text/plain": [
       "3"
      ]
     },
     "execution_count": 3,
     "metadata": {},
     "output_type": "execute_result"
    }
   ],
   "source": [
    "count(\"ACAACTATGCATACTATCGGGAACTATCCT\",\"ACTAT\")"
   ]
  },
  {
   "cell_type": "markdown",
   "metadata": {
    "hideCode": false,
    "hidePrompt": false,
    "slideshow": {
     "slide_type": "subslide"
    }
   },
   "source": [
    "### A word about embedded lab questions\n",
    "In general, I will skip over most lab questions when recording and presenting unless I want them to be used as part of the lecture/discussion."
   ]
  },
  {
   "cell_type": "markdown",
   "metadata": {
    "hideCode": false,
    "hidePrompt": false,
    "slideshow": {
     "slide_type": "subslide"
    }
   },
   "source": [
    "**Exercise 2.** Find the most frequent *k*-mers in a string.\n",
    "* Input: A string ``text`` and an integer ``k``.\n",
    "* Output: All most frequent *k*-mers in ``text`` and their count.\n",
    "* Requirements: Do not use a dictionary/map"
   ]
  },
  {
   "cell_type": "code",
   "execution_count": 4,
   "metadata": {
    "hideCode": false,
    "hidePrompt": false,
    "slideshow": {
     "slide_type": "subslide"
    }
   },
   "outputs": [],
   "source": [
    "import numpy as np\n",
    "\n",
    "def frequent_words(text,k):\n",
    "    frequent_patterns = []\n",
    "    counts = []\n",
    "    # YOUR SOLUTION HERE\n",
    "    return list(np.unique(frequent_patterns)),max_count"
   ]
  },
  {
   "cell_type": "code",
   "execution_count": 5,
   "metadata": {
    "hideCode": false,
    "hidePrompt": false,
    "slideshow": {
     "slide_type": "skip"
    }
   },
   "outputs": [
    {
     "name": "stdout",
     "output_type": "stream",
     "text": [
      "(['ACTAT'], 3)\n",
      "(['ACTA', 'CTAT'], 3)\n"
     ]
    }
   ],
   "source": [
    "print(frequent_words(\"ACAACTATGCATACTATCGGGAACTATCCT\",5))\n",
    "print(frequent_words(\"ACAACTATGCATACTATCGGGAACTATCCT\",4))"
   ]
  },
  {
   "cell_type": "code",
   "execution_count": 6,
   "metadata": {
    "hideCode": false,
    "hidePrompt": false,
    "slideshow": {
     "slide_type": "subslide"
    }
   },
   "outputs": [
    {
     "name": "stdout",
     "output_type": "stream",
     "text": [
      "Question 1: What is the Big-O of frequent words? Define |text| as the length of text. Assume the unit of measurement is comparing a single charater (i.e., comparing ABC to DEF costs 3 units).\n"
     ]
    },
    {
     "data": {
      "application/vnd.jupyter.widget-view+json": {
       "model_id": "7d1a048120834f1da4403f72ad665a51",
       "version_major": 2,
       "version_minor": 0
      },
      "text/plain": [
       "Box(children=(Label(value='Answers:'), RadioButtons(layout=Layout(width='max-content'), options=('|text|^2', '…"
      ]
     },
     "metadata": {},
     "output_type": "display_data"
    }
   ],
   "source": [
    "try:\n",
    "    print('Question 1: What is the Big-O of frequent words? Define |text| as the length of text. Assume the unit of measurement is comparing a single charater (i.e., comparing ABC to DEF costs 3 units).')\n",
    "    manual_answers[\"question_1\"] = widgets.RadioButtons(\n",
    "                options=[\n",
    "                    '|text|^2',\n",
    "                    '|text|^2*k',\n",
    "                    'k^2'\n",
    "                ],\n",
    "                layout={'width': 'max-content'},\n",
    "                value = None\n",
    "            )\n",
    "\n",
    "    display(widgets.Box(\n",
    "        [\n",
    "            widgets.Label(value='Answers:'),\n",
    "            manual_answers[\"question_1\"]\n",
    "        ]\n",
    "    ))\n",
    "except:\n",
    "    pass"
   ]
  },
  {
   "cell_type": "markdown",
   "metadata": {
    "hideCode": false,
    "hidePrompt": false,
    "slideshow": {
     "slide_type": "subslide"
    }
   },
   "source": [
    "### Now let's look at the *ori* and see what 9-mers appear"
   ]
  },
  {
   "cell_type": "code",
   "execution_count": 7,
   "metadata": {
    "hideCode": false,
    "hidePrompt": false,
    "slideshow": {
     "slide_type": "fragment"
    }
   },
   "outputs": [
    {
     "data": {
      "text/plain": [
       "(['atgatcaag', 'ctcttgatc', 'cttgatcat', 'tcttgatca'], 3)"
      ]
     },
     "execution_count": 7,
     "metadata": {},
     "output_type": "execute_result"
    }
   ],
   "source": [
    "text = \"atcaatgatcaacgtaagcttctaagcatgatcaaggtgctcacacagtttatccacaacctgagtggatgacatcaagataggtcgttgtatctccttcctctcgtactctcatgaccacggaaagatgatcaagagaggatgatttcttggccatatcgcaatgaatacttgtgacttgtgcttccaattgacatcttcagcgccatattgcgctggccaaggtgacggagcgggattacgaaagcatgatcatggctgttgttctgtttatcttgttttgactgagacttgttaggatagacggtttttcatcactgactagccaaagccttactctgcctgacatcgaccgtaaattgataatgaatttacatgcttccgcgacgatttacctcttgatcatcgatccgattgaagatcttcaattgttaattctcttgcctcgactcatagccatgatgagctcttgatcatgtttccttaaccctctattttttacggaagaatgatcaagctgctgctcttgatcatcgtttc\"\n",
    "frequent_words(text,9)"
   ]
  },
  {
   "cell_type": "markdown",
   "metadata": {
    "hideCode": false,
    "hidePrompt": false,
    "slideshow": {
     "slide_type": "fragment"
    }
   },
   "source": [
    "Notice anything interesting about the sequences?"
   ]
  },
  {
   "cell_type": "markdown",
   "metadata": {
    "hideCode": false,
    "hidePrompt": false,
    "slideshow": {
     "slide_type": "subslide"
    }
   },
   "source": [
    "As previously stated, nucleotides only bind to their complement, so A and T bind and G and C bind. It is also true that DNA is read in specific direction. Very much in the same way we read left to right. DNA is read from what is called the 5' end to the 3' end.\n",
    "\n",
    "<img src=\"https://image.slidesharecdn.com/dna-replication-lin-140210083429-phpapp02/95/dna-replicationlin-4-638.jpg?cb=1392021295\" width=400/>\n",
    "\n",
    "So we can now understand and look for something very important called a reverse complement. The definition of which is right there in the name. ACTG is the reverse complement of CAGT. Let's now write a simple funciton to find the reverse complement."
   ]
  },
  {
   "cell_type": "markdown",
   "metadata": {
    "hideCode": false,
    "hidePrompt": false,
    "slideshow": {
     "slide_type": "subslide"
    }
   },
   "source": [
    "**Exercise 3.** Write a function that find the reverse complement of a DNA sequence.\n",
    "* Input: A string ``text`` representing DNA.\n",
    "* Output: The reverse complement of ``text``."
   ]
  },
  {
   "cell_type": "code",
   "execution_count": 8,
   "metadata": {
    "hideCode": false,
    "hidePrompt": false,
    "slideshow": {
     "slide_type": "fragment"
    }
   },
   "outputs": [],
   "source": [
    "def reverse_complement(text):\n",
    "    text = text[::-1].lower()\n",
    "    chars = []\n",
    "    # YOUR SOLUTION HERE\n",
    "    return \"\".join(chars)"
   ]
  },
  {
   "cell_type": "code",
   "execution_count": 9,
   "metadata": {
    "hideCode": false,
    "hidePrompt": false,
    "slideshow": {
     "slide_type": "skip"
    }
   },
   "outputs": [
    {
     "data": {
      "text/plain": [
       "'actg'"
      ]
     },
     "execution_count": 9,
     "metadata": {},
     "output_type": "execute_result"
    }
   ],
   "source": [
    "reverse_complement(\"cagt\")"
   ]
  },
  {
   "cell_type": "markdown",
   "metadata": {
    "hideCode": false,
    "hidePrompt": false,
    "slideshow": {
     "slide_type": "subslide"
    }
   },
   "source": [
    "### Back to our 9-mers"
   ]
  },
  {
   "cell_type": "code",
   "execution_count": 10,
   "metadata": {
    "hideCode": false,
    "hidePrompt": false,
    "slideshow": {
     "slide_type": "fragment"
    }
   },
   "outputs": [
    {
     "name": "stdout",
     "output_type": "stream",
     "text": [
      "(['atgatcaag', 'ctcttgatc', 'cttgatcat', 'tcttgatca'], 3)\n",
      "Reverse complement of first 9-mer: cttgatcat\n"
     ]
    }
   ],
   "source": [
    "solutions = frequent_words(text,9)\n",
    "print(solutions)\n",
    "print(\"Reverse complement of first 9-mer:\",reverse_complement(solutions[0][0]))"
   ]
  },
  {
   "cell_type": "markdown",
   "metadata": {
    "hideCode": false,
    "hidePrompt": false,
    "slideshow": {
     "slide_type": "fragment"
    }
   },
   "source": [
    "What is interesting about the reverse complement of the first 9-mer?"
   ]
  },
  {
   "cell_type": "markdown",
   "metadata": {
    "hideCode": false,
    "hidePrompt": false,
    "slideshow": {
     "slide_type": "subslide"
    }
   },
   "source": [
    "### Writing faster code\n",
    "**Exercise 4.** Let's now write faster code that produces a frequency map. \n",
    "* Input: A string ``text`` representing DNA and integer ``k``.\n",
    "* Output: a frequency map (Python dictionary) that maps every pattern of size ``k`` to the number of times that pattern occurs."
   ]
  },
  {
   "cell_type": "code",
   "execution_count": 11,
   "metadata": {
    "hideCode": false,
    "hidePrompt": false,
    "slideshow": {
     "slide_type": "fragment"
    }
   },
   "outputs": [],
   "source": [
    "def frequency_table(text,k):\n",
    "    freq_map = {}\n",
    "    n = len(text)\n",
    "    for i in range(n-k+1):\n",
    "        # YOUR SOLUTION HERE\n",
    "        pass\n",
    "    return freq_map"
   ]
  },
  {
   "cell_type": "code",
   "execution_count": 12,
   "metadata": {
    "hideCode": false,
    "hidePrompt": false,
    "slideshow": {
     "slide_type": "skip"
    }
   },
   "outputs": [],
   "source": [
    "freq_map = frequency_table(text,3)"
   ]
  },
  {
   "cell_type": "markdown",
   "metadata": {
    "slideshow": {
     "slide_type": "subslide"
    }
   },
   "source": [
    "## A word about packages\n",
    "I try to limit the number of Python packages that you need for this class. They are roughly pandas+numpy and networkx.\n",
    "\n",
    "In your project, you are welcome to use bioinformatics Python and non-Python packages. You are encouraged to do so."
   ]
  },
  {
   "cell_type": "code",
   "execution_count": 13,
   "metadata": {
    "hideCode": false,
    "hidePrompt": false,
    "slideshow": {
     "slide_type": "subslide"
    }
   },
   "outputs": [
    {
     "data": {
      "text/plain": [
       "atc    21\n",
       "tca    17\n",
       "caa    12\n",
       "aat    10\n",
       "atg    15\n",
       "       ..\n",
       "gcg     4\n",
       "ggg     1\n",
       "cga     7\n",
       "ccg     3\n",
       "ccc     1\n",
       "Length: 64, dtype: int64"
      ]
     },
     "execution_count": 13,
     "metadata": {},
     "output_type": "execute_result"
    }
   ],
   "source": [
    "# I'm only using pandas here so the output is reasonable, you can remove it of course and see the full dictionary\n",
    "import pandas as pd\n",
    "pd.Series(frequency_table(text,3))"
   ]
  },
  {
   "cell_type": "markdown",
   "metadata": {
    "hideCode": false,
    "hidePrompt": false,
    "slideshow": {
     "slide_type": "subslide"
    }
   },
   "source": [
    "### Write better frequent words\n",
    "**Exercise 5.** Write a function that finds the frequent patterns using a dictionary/map. \n",
    "* Input: A string ``text`` representing DNA and integer ``k``.\n",
    "* Output: All most frequent *k*-mers in ``text`` and their count.\n",
    "* Requirements: Use your frequency_table function (i.e., use the dictionary)."
   ]
  },
  {
   "cell_type": "code",
   "execution_count": 14,
   "metadata": {
    "hideCode": false,
    "hidePrompt": false,
    "slideshow": {
     "slide_type": "fragment"
    }
   },
   "outputs": [],
   "source": [
    "def better_frequent_words(text,k):\n",
    "    frequent_patterns = []\n",
    "    freq_map = frequency_table(text,k)\n",
    "    # YOUR SOLUTION HERE\n",
    "    return frequent_patterns,max_value"
   ]
  },
  {
   "cell_type": "code",
   "execution_count": 15,
   "metadata": {
    "hideCode": false,
    "hidePrompt": false,
    "slideshow": {
     "slide_type": "skip"
    }
   },
   "outputs": [
    {
     "data": {
      "text/plain": [
       "(['atgatcaag', 'ctcttgatc', 'tcttgatca', 'cttgatcat'], 3)"
      ]
     },
     "execution_count": 15,
     "metadata": {},
     "output_type": "execute_result"
    }
   ],
   "source": [
    "better_frequent_words(text,9)"
   ]
  },
  {
   "cell_type": "markdown",
   "metadata": {
    "hideCode": false,
    "hidePrompt": false,
    "slideshow": {
     "slide_type": "subslide"
    }
   },
   "source": [
    "### Clump Finding Problem\n",
    "* Imagine you are trying to find *ori* in a newly sequenced genome\n",
    "* Old frequent hiddent messages won't be useful\n",
    "* One solution is to use a sliding window and look for a region where a $k$-mer appears several times in short succession\n",
    "* For example if TGCA forms a (25,3)-clump then it appears at least 3 times in a window of length 25"
   ]
  },
  {
   "cell_type": "markdown",
   "metadata": {
    "hideCode": false,
    "hidePrompt": false,
    "slideshow": {
     "slide_type": "subslide"
    }
   },
   "source": [
    "Even if we solve the clump finding problem, we still have an issue\n",
    "* Specifically, for the *E. coli* genome we find hundreds of different 9-mers forming (500,3)-clumps\n",
    "* This makes it absolutely unclear which of these 9-mers might represent a DnaA box in the bacterium’s *ori* region.\n",
    "* Please read the next sections entitled \"The Simplest Way to Replicate DNA\" and \"Asymmetry of Replication\". Dig into the biology, but the abstract model/representation we are using in this class does not require you to understand that biology in detail. Chat with me in Slack about what you find confusing and interesting. "
   ]
  },
  {
   "cell_type": "markdown",
   "metadata": {
    "hideCode": false,
    "hidePrompt": false,
    "slideshow": {
     "slide_type": "subslide"
    }
   },
   "source": [
    "### Statistics of the Foward and Reverse Half-Strands\n",
    "The most important consequence for us from the discussion of DNA replication is that we now have four pieces\n",
    "    1. Forward half-strand x 2\n",
    "    2. Reverse half-strand x 2\n",
    "\n",
    "<img src=\"http://bioinformaticsalgorithms.com/images/Replication/half_strands.png\" width=400>\n",
    "\n"
   ]
  },
  {
   "cell_type": "markdown",
   "metadata": {
    "hideCode": false,
    "hidePrompt": false,
    "slideshow": {
     "slide_type": "subslide"
    }
   },
   "source": [
    "### Why does this matter?\n",
    "Consider the genome of *Thermotoga petrophila*. If we count the nucleotides in the forward and reverse half strands, then we get the following:\n",
    "\n",
    "<img src=\"http://bioinformaticsalgorithms.com/images/Replication/forward_reverse_nucleotide_counts.png\" width=400>\n",
    "\n",
    "Notice that the number of C's and G's is different in the reverse and forward half-strand. Why is this?"
   ]
  },
  {
   "cell_type": "markdown",
   "metadata": {
    "hideCode": false,
    "hidePrompt": false,
    "slideshow": {
     "slide_type": "subslide"
    }
   },
   "source": [
    "Take a minute to read this and then we will discuss together and then in groups depending on time:\n",
    "\n",
    "\"It turns out that we observe these discrepancies because cytosine (C) has a tendency to mutate into thymine (T) through a process called deamination. Deamination rates rise 100-fold when DNA is single-stranded, which leads to a decrease in cytosine on the forward half-strand. Also, since C-G base pairs eventually change into T-A base pairs, deamination results in the observed decrease in guanine (G) on the reverse half-strand (recall that a forward parent half-strand synthesizes a reverse daughter half-strand, and vice-versa).\" - Bioinformatics Algorithms 3rd Edition"
   ]
  },
  {
   "cell_type": "markdown",
   "metadata": {
    "hideCode": false,
    "hidePrompt": false,
    "slideshow": {
     "slide_type": "subslide"
    }
   },
   "source": [
    "### Minimum skew problem\n",
    "We can use this statistic to find the *ori*.\n",
    "\n",
    "Our idea is to traverse the genome, keeping a running total of the difference between the counts of G and C. If this difference starts increasing, then we guess we are on the forward half-strand. If this difference starts decreasing, then we guess that we are on the reverse half-strand.\n",
    "\n",
    "\n",
    "<img src=\"http://bioinformaticsalgorithms.com/images/Replication/increasing_decreasing_skew.png\" width=600>\n"
   ]
  },
  {
   "cell_type": "markdown",
   "metadata": {
    "hideCode": false,
    "hidePrompt": false,
    "slideshow": {
     "slide_type": "subslide"
    }
   },
   "source": [
    "We define $Skew_i(Genome)$ as the difference between the total number of occurrences of G and the total number of occurrences of C in the first $i$ nucleotides of Genome. \n",
    "\n",
    "Note that we can compute $Skew_i(Genome)$ incrementally.  \n",
    "\n",
    "If the next nucleotide is G, then $Skew_{i+1}(Genome)$ = $Skew_i(Genome)$ + 1\n",
    "\n",
    "if this nucleotide is C, then $Skew_{i+1}(Genome)$ = $Skew_i(Genome)$ – 1\n",
    "\n",
    "otherwise, $Skew_{i+1}(Genome)$ = $Skew_i(Genome)$."
   ]
  },
  {
   "cell_type": "markdown",
   "metadata": {
    "hideCode": false,
    "hidePrompt": false,
    "slideshow": {
     "slide_type": "subslide"
    }
   },
   "source": [
    "**Exercise 6:** Compute the skew at every position of a Genome\n",
    "\n",
    "Input: A DNA string Genome.\n",
    "\n",
    "Output: An array that computes the $Skew_i(Genome)$. You can assume $Skew_0(Genome)$=0"
   ]
  },
  {
   "cell_type": "code",
   "execution_count": 3,
   "metadata": {
    "hideCode": false,
    "hidePrompt": false,
    "slideshow": {
     "slide_type": "fragment"
    }
   },
   "outputs": [],
   "source": [
    "def skew(genome):\n",
    "    skews = [0]\n",
    "    # YOUR SOLUTION HERE\n",
    "    return skews"
   ]
  },
  {
   "cell_type": "markdown",
   "metadata": {
    "hideCode": false,
    "hidePrompt": false,
    "slideshow": {
     "slide_type": "subslide"
    }
   },
   "source": [
    "### Reading in the *E coli* genome\n",
    "I'll do this for you."
   ]
  },
  {
   "cell_type": "code",
   "execution_count": 4,
   "metadata": {
    "hideCode": false,
    "hidePrompt": false,
    "slideshow": {
     "slide_type": "fragment"
    }
   },
   "outputs": [],
   "source": [
    "import pandas as pd\n",
    "data = pd.read_table(\"http://bioinformaticsalgorithms.com/data/realdatasets/Rearrangements/E_coli.txt\",header=None)\n",
    "genome = data.values[0,0]"
   ]
  },
  {
   "cell_type": "code",
   "execution_count": 6,
   "metadata": {
    "hideCode": false,
    "hidePrompt": false,
    "slideshow": {
     "slide_type": "skip"
    }
   },
   "outputs": [],
   "source": [
    "skews = skew(genome)"
   ]
  },
  {
   "cell_type": "code",
   "execution_count": 7,
   "metadata": {
    "hideCode": false,
    "hidePrompt": false,
    "slideshow": {
     "slide_type": "skip"
    }
   },
   "outputs": [
    {
     "data": {
      "text/plain": [
       "0             0\n",
       "1             0\n",
       "2             1\n",
       "3             0\n",
       "4             0\n",
       "           ... \n",
       "4639671   -2630\n",
       "4639672   -2630\n",
       "4639673   -2630\n",
       "4639674   -2630\n",
       "4639675   -2631\n",
       "Length: 4639676, dtype: int64"
      ]
     },
     "execution_count": 7,
     "metadata": {},
     "output_type": "execute_result"
    }
   ],
   "source": [
    "# Again I'm using pandas because the display would be horrible otherwise.\n",
    "# I will either give you the pandas code or teach you that pandas/numpy code\n",
    "skews = pd.Series(skew(genome))\n",
    "skews"
   ]
  },
  {
   "cell_type": "code",
   "execution_count": 8,
   "metadata": {
    "hideCode": false,
    "hidePrompt": false,
    "slideshow": {
     "slide_type": "subslide"
    }
   },
   "outputs": [
    {
     "data": {
      "text/plain": [
       "<AxesSubplot:>"
      ]
     },
     "execution_count": 8,
     "metadata": {},
     "output_type": "execute_result"
    },
    {
     "data": {
      "image/png": "[encoded data removed]",
      "text/plain": [
       "<Figure size 432x288 with 1 Axes>"
      ]
     },
     "metadata": {
      "needs_background": "light"
     },
     "output_type": "display_data"
    }
   ],
   "source": [
    "%matplotlib inline\n",
    "skews.plot.line()"
   ]
  },
  {
   "cell_type": "markdown",
   "metadata": {
    "hideCode": false,
    "hidePrompt": false,
    "slideshow": {
     "slide_type": "fragment"
    }
   },
   "source": [
    "Where do you think the *ori* is located?"
   ]
  },
  {
   "cell_type": "code",
   "execution_count": 21,
   "metadata": {
    "hideCode": false,
    "hidePrompt": false,
    "slideshow": {
     "slide_type": "fragment"
    }
   },
   "outputs": [
    {
     "name": "stdout",
     "output_type": "stream",
     "text": [
      "Position: 3923621\n"
     ]
    }
   ],
   "source": [
    "print('Position:',skews.idxmin()+1)"
   ]
  },
  {
   "cell_type": "code",
   "execution_count": 22,
   "metadata": {
    "hideCode": false,
    "hidePrompt": false,
    "slideshow": {
     "slide_type": "skip"
    }
   },
   "outputs": [],
   "source": [
    "# Don't forget to push!"
   ]
  },
  {
   "cell_type": "code",
   "execution_count": null,
   "metadata": {
    "hideCode": false,
    "hidePrompt": false
   },
   "outputs": [],
   "source": []
  }
 ],
 "metadata": {
  "celltoolbar": "Slideshow",
  "hide_code_all_hidden": false,
  "jupytext": {
   "formats": "ipynb,md,py"
  },
  "kernelspec": {
   "display_name": "Python 3",
   "language": "python",
   "name": "python3"
  },
  "language_info": {
   "codemirror_mode": {
    "name": "ipython",
    "version": 3
   },
   "file_extension": ".py",
   "mimetype": "text/x-python",
   "name": "python",
   "nbconvert_exporter": "python",
   "pygments_lexer": "ipython3",
   "version": "3.7.3"
  }
 },
 "nbformat": 4,
 "nbformat_minor": 4
}
