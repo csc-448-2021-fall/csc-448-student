{
 "cells": [
  {
   "cell_type": "markdown",
   "metadata": {
    "slideshow": {
     "slide_type": "slide"
    }
   },
   "source": [
    "# Assignment 3 - Genome Assembly\n",
    "## Graph Algorithms"
   ]
  },
  {
   "cell_type": "markdown",
   "metadata": {
    "slideshow": {
     "slide_type": "subslide"
    }
   },
   "source": [
    "## Learning Outcomes\n",
    "* Understand genome assembly bioinformatics motivation\n",
    "* Apply, analyze, and evaluate genome sequence alignment graph based algorithms\n",
    "\n",
    "In this assignment, we will:\n",
    "1. Verify that your solutions for exercises in Topic 3 are implemented correctly\n",
    "2. Extend these solutions\n",
    "3. Apply them to scenarios of both success and failure"
   ]
  },
  {
   "cell_type": "code",
   "execution_count": 1,
   "metadata": {
    "slideshow": {
     "slide_type": "skip"
    }
   },
   "outputs": [],
   "source": [
    "%matplotlib inline\n",
    "%load_ext autoreload\n",
    "%autoreload 2\n",
    "\n",
    "\n",
    "import pandas as pd\n",
    "import numpy as np\n",
    "\n",
    "import Assignment3_helper \n",
    "\n",
    "from pathlib import Path\n",
    "home = str(Path.home()) # all other paths are relative to this path. \n",
    "# This is not relevant to most people because I recommended you use my server, but\n",
    "# change home to where you are storing everything. Again. Not recommended."
   ]
  },
  {
   "cell_type": "markdown",
   "metadata": {
    "slideshow": {
     "slide_type": "subslide"
    }
   },
   "source": [
    "**Exercise 1** String composition problem: Generate the k-mer composition of a string.\n",
    "    \n",
    "Input: An integer $k$ and a string $text$.\n",
    "\n",
    "Output: The lexicographic ordered collection of all k-mer substrings in text (including repeated k-mers) ``composition(k,text)``, where the k-mers are arranged in lexicographic order.\n",
    "\n",
    "Example: ``composition(3,TATGGGGTGC)`` => [ATG, GGG, GGG, GGT, GTG, TAT, TGC, TGG]. Notice how there are two entries for GGG, so we keep duplicates.\n",
    "\n",
    "Learning objective: Build up the skills and vocabulary we need to solve the reconstruction problem."
   ]
  },
  {
   "cell_type": "code",
   "execution_count": 2,
   "metadata": {
    "slideshow": {
     "slide_type": "subslide"
    }
   },
   "outputs": [
    {
     "data": {
      "text/plain": [
       "['ATG', 'GGG', 'GGG', 'GGT', 'GTG', 'TAT', 'TGC', 'TGG']"
      ]
     },
     "execution_count": 2,
     "metadata": {},
     "output_type": "execute_result"
    }
   ],
   "source": [
    "kmers = Assignment3_helper.composition(3,\"TATGGGGTGC\")\n",
    "kmers"
   ]
  },
  {
   "cell_type": "markdown",
   "metadata": {
    "slideshow": {
     "slide_type": "subslide"
    }
   },
   "source": [
    "**Exercise 2** Construct the de Bruijn graph from a set of k-mers.\n",
    "\n",
    "Input: a collection of $k$-mers ``patterns``.\n",
    "\n",
    "Output: NetworkX directed graph that corresponds to the adjacency list of the de Bruijn graph. "
   ]
  },
  {
   "cell_type": "code",
   "execution_count": 3,
   "metadata": {
    "slideshow": {
     "slide_type": "subslide"
    }
   },
   "outputs": [
    {
     "data": {
      "image/png": "[encoded data removed]",
      "text/plain": [
       "<Figure size 432x288 with 1 Axes>"
      ]
     },
     "metadata": {},
     "output_type": "display_data"
    }
   ],
   "source": [
    "dB = Assignment3_helper.de_bruijn([\"AAT\",\"ATG\",\"ATG\",\"ATG\",\"CAT\",\"CCA\",\"GAT\",\"GCC\",\"GGA\",\"GGG\",\"GTT\",\"TAA\",\"TGC\",\"TGG\",\"TGT\"])\n",
    "Assignment3_helper.show(dB)"
   ]
  },
  {
   "cell_type": "code",
   "execution_count": 4,
   "metadata": {
    "slideshow": {
     "slide_type": "subslide"
    }
   },
   "outputs": [
    {
     "data": {
      "text/html": [
       "<div>\n",
       "<style scoped>\n",
       "    .dataframe tbody tr th:only-of-type {\n",
       "        vertical-align: middle;\n",
       "    }\n",
       "\n",
       "    .dataframe tbody tr th {\n",
       "        vertical-align: top;\n",
       "    }\n",
       "\n",
       "    .dataframe thead th {\n",
       "        text-align: right;\n",
       "    }\n",
       "</style>\n",
       "<table border=\"1\" class=\"dataframe\">\n",
       "  <thead>\n",
       "    <tr style=\"text-align: right;\">\n",
       "      <th></th>\n",
       "      <th>AA</th>\n",
       "      <th>AT</th>\n",
       "      <th>TG</th>\n",
       "      <th>CA</th>\n",
       "      <th>CC</th>\n",
       "      <th>GA</th>\n",
       "      <th>GC</th>\n",
       "      <th>GG</th>\n",
       "      <th>GT</th>\n",
       "      <th>TT</th>\n",
       "      <th>TA</th>\n",
       "    </tr>\n",
       "  </thead>\n",
       "  <tbody>\n",
       "    <tr>\n",
       "      <th>AA</th>\n",
       "      <td>0</td>\n",
       "      <td>1</td>\n",
       "      <td>0</td>\n",
       "      <td>0</td>\n",
       "      <td>0</td>\n",
       "      <td>0</td>\n",
       "      <td>0</td>\n",
       "      <td>0</td>\n",
       "      <td>0</td>\n",
       "      <td>0</td>\n",
       "      <td>0</td>\n",
       "    </tr>\n",
       "    <tr>\n",
       "      <th>AT</th>\n",
       "      <td>0</td>\n",
       "      <td>0</td>\n",
       "      <td>3</td>\n",
       "      <td>0</td>\n",
       "      <td>0</td>\n",
       "      <td>0</td>\n",
       "      <td>0</td>\n",
       "      <td>0</td>\n",
       "      <td>0</td>\n",
       "      <td>0</td>\n",
       "      <td>0</td>\n",
       "    </tr>\n",
       "    <tr>\n",
       "      <th>TG</th>\n",
       "      <td>0</td>\n",
       "      <td>0</td>\n",
       "      <td>0</td>\n",
       "      <td>0</td>\n",
       "      <td>0</td>\n",
       "      <td>0</td>\n",
       "      <td>1</td>\n",
       "      <td>1</td>\n",
       "      <td>1</td>\n",
       "      <td>0</td>\n",
       "      <td>0</td>\n",
       "    </tr>\n",
       "    <tr>\n",
       "      <th>CA</th>\n",
       "      <td>0</td>\n",
       "      <td>1</td>\n",
       "      <td>0</td>\n",
       "      <td>0</td>\n",
       "      <td>0</td>\n",
       "      <td>0</td>\n",
       "      <td>0</td>\n",
       "      <td>0</td>\n",
       "      <td>0</td>\n",
       "      <td>0</td>\n",
       "      <td>0</td>\n",
       "    </tr>\n",
       "    <tr>\n",
       "      <th>CC</th>\n",
       "      <td>0</td>\n",
       "      <td>0</td>\n",
       "      <td>0</td>\n",
       "      <td>1</td>\n",
       "      <td>0</td>\n",
       "      <td>0</td>\n",
       "      <td>0</td>\n",
       "      <td>0</td>\n",
       "      <td>0</td>\n",
       "      <td>0</td>\n",
       "      <td>0</td>\n",
       "    </tr>\n",
       "    <tr>\n",
       "      <th>GA</th>\n",
       "      <td>0</td>\n",
       "      <td>1</td>\n",
       "      <td>0</td>\n",
       "      <td>0</td>\n",
       "      <td>0</td>\n",
       "      <td>0</td>\n",
       "      <td>0</td>\n",
       "      <td>0</td>\n",
       "      <td>0</td>\n",
       "      <td>0</td>\n",
       "      <td>0</td>\n",
       "    </tr>\n",
       "    <tr>\n",
       "      <th>GC</th>\n",
       "      <td>0</td>\n",
       "      <td>0</td>\n",
       "      <td>0</td>\n",
       "      <td>0</td>\n",
       "      <td>1</td>\n",
       "      <td>0</td>\n",
       "      <td>0</td>\n",
       "      <td>0</td>\n",
       "      <td>0</td>\n",
       "      <td>0</td>\n",
       "      <td>0</td>\n",
       "    </tr>\n",
       "    <tr>\n",
       "      <th>GG</th>\n",
       "      <td>0</td>\n",
       "      <td>0</td>\n",
       "      <td>0</td>\n",
       "      <td>0</td>\n",
       "      <td>0</td>\n",
       "      <td>1</td>\n",
       "      <td>0</td>\n",
       "      <td>1</td>\n",
       "      <td>0</td>\n",
       "      <td>0</td>\n",
       "      <td>0</td>\n",
       "    </tr>\n",
       "    <tr>\n",
       "      <th>GT</th>\n",
       "      <td>0</td>\n",
       "      <td>0</td>\n",
       "      <td>0</td>\n",
       "      <td>0</td>\n",
       "      <td>0</td>\n",
       "      <td>0</td>\n",
       "      <td>0</td>\n",
       "      <td>0</td>\n",
       "      <td>0</td>\n",
       "      <td>1</td>\n",
       "      <td>0</td>\n",
       "    </tr>\n",
       "    <tr>\n",
       "      <th>TT</th>\n",
       "      <td>0</td>\n",
       "      <td>0</td>\n",
       "      <td>0</td>\n",
       "      <td>0</td>\n",
       "      <td>0</td>\n",
       "      <td>0</td>\n",
       "      <td>0</td>\n",
       "      <td>0</td>\n",
       "      <td>0</td>\n",
       "      <td>0</td>\n",
       "      <td>0</td>\n",
       "    </tr>\n",
       "    <tr>\n",
       "      <th>TA</th>\n",
       "      <td>1</td>\n",
       "      <td>0</td>\n",
       "      <td>0</td>\n",
       "      <td>0</td>\n",
       "      <td>0</td>\n",
       "      <td>0</td>\n",
       "      <td>0</td>\n",
       "      <td>0</td>\n",
       "      <td>0</td>\n",
       "      <td>0</td>\n",
       "      <td>0</td>\n",
       "    </tr>\n",
       "  </tbody>\n",
       "</table>\n",
       "</div>"
      ],
      "text/plain": [
       "    AA  AT  TG  CA  CC  GA  GC  GG  GT  TT  TA\n",
       "AA   0   1   0   0   0   0   0   0   0   0   0\n",
       "AT   0   0   3   0   0   0   0   0   0   0   0\n",
       "TG   0   0   0   0   0   0   1   1   1   0   0\n",
       "CA   0   1   0   0   0   0   0   0   0   0   0\n",
       "CC   0   0   0   1   0   0   0   0   0   0   0\n",
       "GA   0   1   0   0   0   0   0   0   0   0   0\n",
       "GC   0   0   0   0   1   0   0   0   0   0   0\n",
       "GG   0   0   0   0   0   1   0   1   0   0   0\n",
       "GT   0   0   0   0   0   0   0   0   0   1   0\n",
       "TT   0   0   0   0   0   0   0   0   0   0   0\n",
       "TA   1   0   0   0   0   0   0   0   0   0   0"
      ]
     },
     "execution_count": 4,
     "metadata": {},
     "output_type": "execute_result"
    }
   ],
   "source": [
    "Assignment3_helper.to_adj(dB)"
   ]
  },
  {
   "cell_type": "markdown",
   "metadata": {
    "slideshow": {
     "slide_type": "subslide"
    }
   },
   "source": [
    "**Exercise 3** Given a Eulerian directed graph, find the Eulerian cycle.\n",
    "\n",
    "Given: An Eulerian directed graph, in the form of a MultiDiGraph networkx object.\n",
    "\n",
    "Return: An Eulerian cycle in this graph returned as a list."
   ]
  },
  {
   "cell_type": "code",
   "execution_count": 5,
   "metadata": {
    "slideshow": {
     "slide_type": "skip"
    }
   },
   "outputs": [
    {
     "name": "stdout",
     "output_type": "stream",
     "text": [
      "Random start\n",
      "[0, 3, 2, 6, 8, 7, 9, 6, 5, 4, 2, 1, 0]\n",
      "Start at specific node\n",
      "[6, 5, 4, 2, 1, 0, 3, 2, 6, 8, 7, 9, 6]\n"
     ]
    },
    {
     "data": {
      "image/png": "[encoded data removed]",
      "text/plain": [
       "<Figure size 432x288 with 1 Axes>"
      ]
     },
     "metadata": {},
     "output_type": "display_data"
    }
   ],
   "source": [
    "# Print example with random start\n",
    "cycle = Assignment3_helper.eulerian_cycle(Assignment3_helper.G)\n",
    "Assignment3_helper.show(Assignment3_helper.G)\n",
    "print(\"Random start\")\n",
    "print(cycle)\n",
    "\n",
    "# Example with start node specified\n",
    "cycle = Assignment3_helper.eulerian_cycle(Assignment3_helper.G,start=6)\n",
    "\n",
    "print(\"Start at specific node\")\n",
    "print(cycle) # Should also result in a shifted but equivalent answer. \n",
    "\n",
    "# If your code isn't working, please carefully read the section on the ant \n",
    "# moving around the graph and getting stuck :)"
   ]
  },
  {
   "cell_type": "markdown",
   "metadata": {
    "slideshow": {
     "slide_type": "subslide"
    }
   },
   "source": [
    "## Eulerian path\n",
    "Consider the following graph that does not contain a Eulerian cycle."
   ]
  },
  {
   "cell_type": "code",
   "execution_count": 6,
   "metadata": {
    "slideshow": {
     "slide_type": "fragment"
    }
   },
   "outputs": [
    {
     "data": {
      "image/png": "[encoded data removed]",
      "text/plain": [
       "<Figure size 432x288 with 1 Axes>"
      ]
     },
     "metadata": {},
     "output_type": "display_data"
    }
   ],
   "source": [
    "Assignment3_helper.show(Assignment3_helper.G2)"
   ]
  },
  {
   "cell_type": "markdown",
   "metadata": {
    "slideshow": {
     "slide_type": "subslide"
    }
   },
   "source": [
    "Consider the following function that finds the in and out degree of every node."
   ]
  },
  {
   "cell_type": "code",
   "execution_count": 7,
   "metadata": {
    "slideshow": {
     "slide_type": "fragment"
    }
   },
   "outputs": [
    {
     "data": {
      "text/html": [
       "<div>\n",
       "<style scoped>\n",
       "    .dataframe tbody tr th:only-of-type {\n",
       "        vertical-align: middle;\n",
       "    }\n",
       "\n",
       "    .dataframe tbody tr th {\n",
       "        vertical-align: top;\n",
       "    }\n",
       "\n",
       "    .dataframe thead th {\n",
       "        text-align: right;\n",
       "    }\n",
       "</style>\n",
       "<table border=\"1\" class=\"dataframe\">\n",
       "  <thead>\n",
       "    <tr style=\"text-align: right;\">\n",
       "      <th></th>\n",
       "      <th>in</th>\n",
       "      <th>out</th>\n",
       "    </tr>\n",
       "  </thead>\n",
       "  <tbody>\n",
       "    <tr>\n",
       "      <th>0</th>\n",
       "      <td>1</td>\n",
       "      <td>1</td>\n",
       "    </tr>\n",
       "    <tr>\n",
       "      <th>1</th>\n",
       "      <td>1</td>\n",
       "      <td>1</td>\n",
       "    </tr>\n",
       "    <tr>\n",
       "      <th>2</th>\n",
       "      <td>1</td>\n",
       "      <td>1</td>\n",
       "    </tr>\n",
       "    <tr>\n",
       "      <th>3</th>\n",
       "      <td>2</td>\n",
       "      <td>2</td>\n",
       "    </tr>\n",
       "    <tr>\n",
       "      <th>4</th>\n",
       "      <td>1</td>\n",
       "      <td>0</td>\n",
       "    </tr>\n",
       "    <tr>\n",
       "      <th>6</th>\n",
       "      <td>1</td>\n",
       "      <td>2</td>\n",
       "    </tr>\n",
       "    <tr>\n",
       "      <th>7</th>\n",
       "      <td>1</td>\n",
       "      <td>1</td>\n",
       "    </tr>\n",
       "    <tr>\n",
       "      <th>8</th>\n",
       "      <td>1</td>\n",
       "      <td>1</td>\n",
       "    </tr>\n",
       "    <tr>\n",
       "      <th>9</th>\n",
       "      <td>1</td>\n",
       "      <td>1</td>\n",
       "    </tr>\n",
       "  </tbody>\n",
       "</table>\n",
       "</div>"
      ],
      "text/plain": [
       "   in  out\n",
       "0   1    1\n",
       "1   1    1\n",
       "2   1    1\n",
       "3   2    2\n",
       "4   1    0\n",
       "6   1    2\n",
       "7   1    1\n",
       "8   1    1\n",
       "9   1    1"
      ]
     },
     "execution_count": 7,
     "metadata": {},
     "output_type": "execute_result"
    }
   ],
   "source": [
    "Assignment3_helper.calc_in_out(Assignment3_helper.G2)"
   ]
  },
  {
   "cell_type": "markdown",
   "metadata": {
    "slideshow": {
     "slide_type": "subslide"
    }
   },
   "source": [
    "Is there \"nearly\" a cycle? If so, how would you find it? What two nodes would you connect?"
   ]
  },
  {
   "cell_type": "markdown",
   "metadata": {
    "slideshow": {
     "slide_type": "subslide"
    }
   },
   "source": [
    "**Exercise 4** Given a Eulerian directed graph, find the Eulerian path.\n",
    "\n",
    "Given: An Eulerian directed graph, in the form of a MultiDiGraph networkx object.\n",
    "\n",
    "Return: An Eulerian cycle in this graph returned as a list.\n",
    "\n",
    "Hint: Can you find the correct starting node from the output of ``in_out``?"
   ]
  },
  {
   "cell_type": "code",
   "execution_count": 8,
   "metadata": {
    "slideshow": {
     "slide_type": "subslide"
    }
   },
   "outputs": [
    {
     "data": {
      "text/plain": [
       "[6, 7, 8, 9, 6, 3, 0, 2, 1, 3, 4]"
      ]
     },
     "execution_count": 8,
     "metadata": {},
     "output_type": "execute_result"
    }
   ],
   "source": [
    "path = Assignment3_helper.eulerian_path(Assignment3_helper.G2)\n",
    "path"
   ]
  },
  {
   "cell_type": "markdown",
   "metadata": {
    "slideshow": {
     "slide_type": "subslide"
    }
   },
   "source": [
    "We can finally put everything together!\n",
    "\n",
    "**Exercise 5:** Reconstruct a string from its k-mer composition.\n",
    "\n",
    "Given: Given a list of $k$-mers patterns.\n",
    "\n",
    "Return: A string ``text`` with $k$-mer composition equal to patterns."
   ]
  },
  {
   "cell_type": "code",
   "execution_count": 9,
   "metadata": {
    "slideshow": {
     "slide_type": "subslide"
    }
   },
   "outputs": [
    {
     "data": {
      "text/plain": [
       "'GGCTTACCA'"
      ]
     },
     "execution_count": 9,
     "metadata": {},
     "output_type": "execute_result"
    }
   ],
   "source": [
    "assembly = Assignment3_helper.reconstruct(Assignment3_helper.kmers)\n",
    "assembly"
   ]
  },
  {
   "cell_type": "code",
   "execution_count": 10,
   "metadata": {},
   "outputs": [],
   "source": [
    "# Don't forget to push!"
   ]
  },
  {
   "cell_type": "markdown",
   "metadata": {},
   "source": [
    "## Important notes\n",
    "Problems below are not autograded.\n",
    "\n",
    "They do require you to copy your align_dynamic2 function into the Assignment3_helper.py in order to get the print outs. It also requires you to copy your function for reading a FASTA file."
   ]
  },
  {
   "cell_type": "markdown",
   "metadata": {},
   "source": [
    "We've written the bones of a modern assembly algorithm."
   ]
  },
  {
   "cell_type": "code",
   "execution_count": 11,
   "metadata": {},
   "outputs": [
    {
     "data": {
      "text/plain": [
       "'TATGGGGTGC'"
      ]
     },
     "execution_count": 11,
     "metadata": {},
     "output_type": "execute_result"
    }
   ],
   "source": [
    "seq=\"TATGGGGTGC\"\n",
    "kmers = Assignment3_helper.composition(3,seq)\n",
    "assembled_seq=Assignment3_helper.reconstruct(kmers)\n",
    "assembled_seq"
   ]
  },
  {
   "cell_type": "markdown",
   "metadata": {},
   "source": [
    "We have an alignment algorithm so we can check it out:"
   ]
  },
  {
   "cell_type": "code",
   "execution_count": 12,
   "metadata": {},
   "outputs": [
    {
     "name": "stdout",
     "output_type": "stream",
     "text": [
      "TATGGGGTGC\n",
      "||||||||||\n",
      "TATGGGGTGC\n"
     ]
    }
   ],
   "source": [
    "sc,s1,s2=Assignment3_helper.align_dynamic2(seq,assembled_seq)\n",
    "Assignment3_helper.print_alignment(s1,s2)"
   ]
  },
  {
   "cell_type": "markdown",
   "metadata": {},
   "source": [
    "Looks like we solved it! Time to go home...\n",
    "\n",
    "Let's take a look at Yeast's genome. We will read in all the chromosomes, but for simplicity we will focus on the first 1,000 nucleotides of the first chromosome."
   ]
  },
  {
   "cell_type": "code",
   "execution_count": 13,
   "metadata": {},
   "outputs": [
    {
     "data": {
      "text/plain": [
       "'>NC_001133.9 Saccharomyces cerevisiae S288C chromosome I, complete sequence'"
      ]
     },
     "execution_count": 13,
     "metadata": {},
     "output_type": "execute_result"
    }
   ],
   "source": [
    "headers,seqs=Assignment3_helper.read_fasta(f'{home}/csc-448-student/data/GCF_000146045.2_R64_genomic.fna')\n",
    "headers[0]"
   ]
  },
  {
   "cell_type": "code",
   "execution_count": 14,
   "metadata": {},
   "outputs": [],
   "source": [
    "ch1_first_1000 = seqs[0][:1000].upper()"
   ]
  },
  {
   "cell_type": "code",
   "execution_count": 15,
   "metadata": {},
   "outputs": [
    {
     "data": {
      "text/plain": [
       "'CCACACCACACCCACACACCCACACACCACACCACACACCACACCACACCCACACACACACATCCTAACACTACCCTAACACAGCCCTAATCTAACCCTGGCCAACCTGTCTCTCAACTTACCCTCCATTACCCTGCCTCCACTCGTTACCCTGTCCCATTCAACCATACCACTCCGAACCACCATCCATCCCTCTACTTACTACCACTCACCCACCGTTACCCTCCAATTACCCATATCCAACCCACTGCCACTTACCCTACCATTACCCTACCATCCACCATGACCTACTCACCATACTGTTCTTCTACCCACCATATTGAAACGCTAACAAATGATCGTAAATAACACACACGTGCTTACCCTACCACTTTATACCACCACCACATGCCATACTCACCCTCACTTGTATACTGATTTTACGTACGCACACGGATGCTACAGTATATACCATCTCAAACTTACCCTACTCTCAGATTCCACTTCACTCCATGGCCCATCTCTCACTGAATCAGTACCAAATGCACTCACATCATTATGCACGGCACTTGCCTCAGCGGTCTATACCCTGTGCCATTTACCCATAACGCCCATCATTATCCACATTTTGATATCTATATCTCATTCGGCGGTCCCAAATATTGTATAACTGCCCTTAATACATACGTTATACCACTTTTGCACCATATACTTACCACTCCATTTATATACACTTATGTCAATATTACAGAAAAATCCCCACAAAAATCACCTAAACATAAAAATATTCTACTTTTCAACAATAATACATAAACATATTGGCTTGTGGTAGCAACACTATCATGGTATCACTAACGTAAAAGTTCCTCAATATTGCAATTTGCTTGAACGGATGCTATTTCAGAATATTTCGTACTTACACAGGCCATACATTAGAATAATATGTCACATCACTGTCGTAACACTCTTTATTCACCGAGCAATAATACGGTAGTGGCTCAAACTCATGCGGGTGCTATGA'"
      ]
     },
     "execution_count": 15,
     "metadata": {},
     "output_type": "execute_result"
    }
   ],
   "source": [
    "ch1_first_1000"
   ]
  },
  {
   "cell_type": "markdown",
   "metadata": {},
   "source": [
    "**Problem 1:** Do you think we will get the correct assembly using the same parameters and functions that were so successful above? Explain your answer and your reasoning.\n",
    "\n",
    "**Your answer here**"
   ]
  },
  {
   "cell_type": "code",
   "execution_count": 16,
   "metadata": {},
   "outputs": [
    {
     "data": {
      "text/plain": [
       "'CCTGATGATGATGATGATGATCGTAGTAGTAGTACTGAGTACTCCTCCTCCTCCTCCTCCTCCTCCTCCTCCTCCTCCTCCTCCTCCTCCTCCGTACTCATCATCATCATCATCATCATCATCATCATCATCATCATCATCATCATCATCATCATCATACTCATACTCATACTCATACTCATACTCATACTCATACTCATACTCATACTACTACTACTACTACTACTACTACTACTACTACTACTACTACTACTACTACTACTACTACTACTACTACGGGCCGGCCGGCCCCCCCCCCCCCCCCCCCCCCCCCCCCCCCATACGGCCATACGGCCATACGGCCATACGGCATACGGACGCATACGCATACGCATACGAATACGAATAATAATAATAATAATAATAATAATAATAATAATAATAATAATAATAATAATAATAAGGAACCAGCAGCAGCAGCAGAACCAGAACCAGAACCAGAACCACCACCACCACCACCACCACCACCACCACCACCACCACCACCACCACCACCACCACCACCACCACCACCACCACCACCACCACCACCACCACCACCACCACCACCACCACCACCACCACCACCACCACCACCACACACACACACACACACACACACACACACACACACACACACACACACACAACAACAACAACAACAACAACAACAACAACAACAACAACAACAACAACAACAAAAAAAAAAAAAAAAAAAAAATTTTTTTTTTTTTTTTTGTTGTTGTTGTTGTTGTGTGTGTGTGGTCTTGGTCTTGGTCTTGGTCTTGGTCTTGGTCTTCTTCTTCTTCTTCTTCTTCTTCTTCTTCGTCGTATTCGTATTCGTATTATTATTATTATTATTATTATTATTATTATTATTATTATTATTATTATTATTATTATTATGCTTATGCTTATGCTTATGCTTATGCTGCTGCTGCTGCGTATGCGTATGCGTATGCCTGCCTGCCTGCCTGCCTGA'"
      ]
     },
     "execution_count": 16,
     "metadata": {},
     "output_type": "execute_result"
    }
   ],
   "source": [
    "kmers = Assignment3_helper.composition(3,ch1_first_1000)\n",
    "assembled_seq=Assignment3_helper.reconstruct(kmers)\n",
    "assembled_seq"
   ]
  },
  {
   "cell_type": "code",
   "execution_count": 17,
   "metadata": {},
   "outputs": [
    {
     "name": "stdout",
     "output_type": "stream",
     "text": [
      "CCACACCACACCCACACACCCACACACCACACCACACACCACACCACACC\n",
      "||  |  |     |                |  ||  |  || || |  |\n",
      "CCTGATGATGATGATGATGATCGTAGTAGTAGTACTGAGTACTCCTCCTC\n",
      "CACACACACACATCCTAACACTACCCTAACACAGCCCTAATCTAACCCTG\n",
      "| |   | |     |   | |  ||    |     |||  ||    |   \n",
      "CTCCTCCTCCTCCTCCTCCTCCTCCTCCTCCTCCTCCTCCTCCGTACTCA\n",
      "GCCAACCTGTCTCTCAACTTACCCTCCATTACCCTGCCTCCACTCGTTAC\n",
      " |       ||       | | | ||     |     |  ||       |\n",
      "TCATCATCATCATCATCATCATCATCATCATCATCATCATCATCATCATC\n",
      "CCTGTCCCATTCAACCATACCACTCCGAACCACCATCCATCCCTCTACTT\n",
      "    ||  | |||  |  |          |   |    |  | |   | |\n",
      "ATCATCATACTCATACTCATACTCATACTCATACTCATACTCATACTCAT\n",
      "ACTACCACTCACCCACCGTTACCCTCCAATTACCCATATCCAACCCACTG\n",
      "|||   |||    |  |     |  | | |    |   | | ||      \n",
      "ACTCATACTACTACTACTACTACTACTACTACTACTACTACTACTACTAC\n",
      "CCACTTACCCTACCATTACCCTACCATCCACCATGACCTACTCACCATAC\n",
      "        |      |    |||| |    ||        | | ||   |\n",
      "TACTACTACTACTACTACTACTACTACGGGCCGGCCGGCCCCCCCCCCCC\n",
      "TGTTCTTCTACCCACCATATTGAAACGCTAACAAATGATCGTAAATAACA\n",
      "    |  |  ||| ||    |    |  ||       |  |  |      \n",
      "CCCCCCCCCCCCCCCCCCCATACGGCCATACGGCCATACGGCCATACGGC\n",
      "CACACGTGCTTACCCTACCACTTTATACCACCACCACATGCCATACTCAC\n",
      "     |       |  |      ||      |     ||   |     | \n",
      "ATACGGACGCATACGCATACGCATACGAATACGAATAATAATAATAATAA\n",
      "CCTCACTTGTATACTGATTTTACGTACGCACACGGATGCTACAGTATATA\n",
      "    | |  ||     | |     ||   | |   ||  ||  | |    \n",
      "TAATAATAATAATAATAATAATAATAATAATAATAATAATAAGGAACCAG\n",
      "CCATCTCAAACTTACCCTACTCTCAGATTCCACTTCACTCCATGGCCCAT\n",
      "|     ||     |||  |  |  |      ||  |   |     | |  \n",
      "CAGCAGCAGCAGAACCAGAACCAGAACCAGAACCACCACCACCACCACCA\n",
      "CTCTCACTGAATCAGTACCAAATGCACTCACATCATTATGCACGGCACTT\n",
      "|   |||     |     | |   |   |||  |      |||  |    \n",
      "CCACCACCACCACCACCACCACCACCACCACCACCACCACCACCACCACC\n",
      "GCCTCAGCGGTCTATACCCTGTGCCATTTACCCATAACGCCCATCATTAT\n",
      " || |  |   |   |||     |       |||  ||  ||| ||  | \n",
      "ACCACCACCACCACCACCACCACCACCACCACCACCACCACCACCACCAC\n",
      "CCACATTTTGATATCTATATCTCATTCGGCGGTCCCAAATATTGTATAAC\n",
      "|  ||     |   | | |          |   | || | |       ||\n",
      "CACCACCACCACCACCACACACACACACACACACACACACACACACACAC\n",
      "TGCCCTTAATACATACGTTATACCACTTTTGCACCATATACTTACCACTC\n",
      "   |    | ||| ||   |            || | |     | ||   \n",
      "ACACACACACACACACAACAACAACAACAACAACAACAACAACAACAACA\n",
      "CATTTATATACACTTATGTCAATATTACAGAAAAATCCCCACAAAAATCA\n",
      "     |   |||   |    || |  | | |||||            |  \n",
      "ACAACAACAACAACAACAAAAAAAAAAAAAAAAAAAAAATTTTTTTTTTT\n",
      "CCTAAACATAAAAATATTCTACTTTTCAACAATAATACATAAACATATTG\n",
      "  |     |     | || |  | |          |   |     | |||\n",
      "TTTTTTGTTGTTGTTGTTGTTGTGTGTGTGTGGTCTTGGTCTTGGTCTTG\n",
      "GCTTGTGGTAGCAACACTATCATGGTATCACTAACGTAAAAGTTCCTCAA\n",
      "|  |  |       |    || |  | |   |    |     ||| ||  \n",
      "GTCTTGGTCTTGGTCTTCTTCTTCTTCTTCTTCTTCTTCTTCTTCGTCGT\n",
      "TATTGCAATTTGCTTGAACGGATGCTATTTCAGAATATTTCGTACTTACA\n",
      "  | | | |    ||      ||  |  ||   | ||||       |   \n",
      "ATTCGTATTCGTATTATTATTATTATTATTATTATTATTATTATTATTAT\n",
      "CAGGCCATACATTAGAATAATATGTCACATCACTGTCGTAACACTCTTTA\n",
      " |        ||||  || ||    |  ||   | |  | |  ||  |  \n",
      "TATTATTATTATTATTATTATTATGCTTATGCTTATGCTTATGCTTATGC\n",
      "TTCACCGAGCAATAATACGGTAGTGGCTCAAACTCATGCGGGTGCTATGA\n",
      "| |  |        || ||   | |  |      |   | |      |||\n",
      "TGCTGCTGCTGCGTATGCGTATGCGTATGCCTGCCTGCCTGCCTGCCTGA\n"
     ]
    }
   ],
   "source": [
    "Assignment3_helper.print_alignment(ch1_first_1000,assembled_seq,num_to_print=50)"
   ]
  },
  {
   "cell_type": "markdown",
   "metadata": {},
   "source": [
    "How does that look to you? Take a look at all C's in a row. And all the T's and the altnerating AC's. Ahhh...."
   ]
  },
  {
   "cell_type": "markdown",
   "metadata": {},
   "source": [
    "The real question is not whether this assembly is wrong (it clearly is), but the question is what caused this problem? There are a number of things to consider:\n",
    "1. It could be a bug in our program (it isn't :)\n",
    "2. It could be that our program returned one of many possible assemblies (ding ding ding!). \n",
    "\n",
    "It is the second complication. With a small $k$-mer value we run the risk of too much variability in the assemblies that are possible. "
   ]
  },
  {
   "cell_type": "markdown",
   "metadata": {},
   "source": [
    "**Problem 2:** See how the results change as you increase the $k$ value:"
   ]
  },
  {
   "cell_type": "code",
   "execution_count": 18,
   "metadata": {},
   "outputs": [
    {
     "data": {
      "text/plain": [
       "'CCACACCACACCCACACACCCACACACCACACCACACCACACACCACACCCACACACACACATCCTAACACTACCCTAACACAGCCCTAATCTAACCCTGGCCAACCTGTCTCTCAACTTACCCTCCATTACCCTGCCTCCACTCGTTACCCTGTCCCATTCAACCATACCACTCCGAACCACCATCCATCCCTCTACTTACTACCACTCACCCACCGTTACCCTCCAATTACCCATATCCAACCCACTGCCACTTACCCTACCATTACCCTACCATCCACCATGACCTACTCACCATACTGTTCTTCTACCCACCATATTGAAACGCTAACAAATGATCGTAAATAACACACACGTGCTTACCCTACCACTTTATACCACCACCACATGCCATACTCACCCTCACTTGTATACTGATTTTACGTACGCACACGGATGCTACAGTATATACCATCTCAAACTTACCCTACTCTCAGATTCCACTTCACTCCATGGCCCATCTCTCACTGAATCAGTACCAAATGCACTCACATCATTATGCACGGCACTTGCCTCAGCGGTCTATACCCTGTGCCATTTACCCATAACGCCCATCATTATCCACATTTTGATATCTATATCTCATTCGGCGGTCCCAAATATTGTATAACTGCCCTTAATACATACGTTATACCACTTTTGCACCATATACTTACCACTCCATTTATATACACTTATGTCAATATTACAGAAAAATCCCCACAAAAATCACCTAAACATAAAAATATTCTACTTTTCAACAATAATACATAAACATATTGGCTTGTGGTAGCAACACTATCATGGTATCACTAACGTAAAAGTTCCTCAATATTGCAATTTGCTTGAACGGATGCTATTTCAGAATATTTCGTACTTACACAGGCCATACATTAGAATAATATGTCACATCACTGTCGTAACACTCTTTATTCACCGAGCAATAATACGGTAGTGGCTCAAACTCATGCGGGTGCTATGA'"
      ]
     },
     "execution_count": 18,
     "metadata": {},
     "output_type": "execute_result"
    }
   ],
   "source": [
    "kmers=Assignment3_helper.composition(11,ch1_first_1000)\n",
    "assembled_seq=Assignment3_helper.reconstruct(kmers)\n",
    "assembled_seq"
   ]
  },
  {
   "cell_type": "code",
   "execution_count": 19,
   "metadata": {},
   "outputs": [
    {
     "name": "stdout",
     "output_type": "stream",
     "text": [
      "CCACACCACACCCACACACCCACACACCACACCACACACCACACCACACC\n",
      "|||||||||||||||||||||||||||||||||||||  |||||||||||\n",
      "CCACACCACACCCACACACCCACACACCACACCACACCACACACCACACC\n",
      "CACACACACACATCCTAACACTACCCTAACACAGCCCTAATCTAACCCTG\n",
      "||||||||||||||||||||||||||||||||||||||||||||||||||\n",
      "CACACACACACATCCTAACACTACCCTAACACAGCCCTAATCTAACCCTG\n",
      "GCCAACCTGTCTCTCAACTTACCCTCCATTACCCTGCCTCCACTCGTTAC\n",
      "||||||||||||||||||||||||||||||||||||||||||||||||||\n",
      "GCCAACCTGTCTCTCAACTTACCCTCCATTACCCTGCCTCCACTCGTTAC\n",
      "CCTGTCCCATTCAACCATACCACTCCGAACCACCATCCATCCCTCTACTT\n",
      "||||||||||||||||||||||||||||||||||||||||||||||||||\n",
      "CCTGTCCCATTCAACCATACCACTCCGAACCACCATCCATCCCTCTACTT\n",
      "ACTACCACTCACCCACCGTTACCCTCCAATTACCCATATCCAACCCACTG\n",
      "||||||||||||||||||||||||||||||||||||||||||||||||||\n",
      "ACTACCACTCACCCACCGTTACCCTCCAATTACCCATATCCAACCCACTG\n",
      "CCACTTACCCTACCATTACCCTACCATCCACCATGACCTACTCACCATAC\n",
      "||||||||||||||||||||||||||||||||||||||||||||||||||\n",
      "CCACTTACCCTACCATTACCCTACCATCCACCATGACCTACTCACCATAC\n",
      "TGTTCTTCTACCCACCATATTGAAACGCTAACAAATGATCGTAAATAACA\n",
      "||||||||||||||||||||||||||||||||||||||||||||||||||\n",
      "TGTTCTTCTACCCACCATATTGAAACGCTAACAAATGATCGTAAATAACA\n",
      "CACACGTGCTTACCCTACCACTTTATACCACCACCACATGCCATACTCAC\n",
      "||||||||||||||||||||||||||||||||||||||||||||||||||\n",
      "CACACGTGCTTACCCTACCACTTTATACCACCACCACATGCCATACTCAC\n",
      "CCTCACTTGTATACTGATTTTACGTACGCACACGGATGCTACAGTATATA\n",
      "||||||||||||||||||||||||||||||||||||||||||||||||||\n",
      "CCTCACTTGTATACTGATTTTACGTACGCACACGGATGCTACAGTATATA\n",
      "CCATCTCAAACTTACCCTACTCTCAGATTCCACTTCACTCCATGGCCCAT\n",
      "||||||||||||||||||||||||||||||||||||||||||||||||||\n",
      "CCATCTCAAACTTACCCTACTCTCAGATTCCACTTCACTCCATGGCCCAT\n",
      "CTCTCACTGAATCAGTACCAAATGCACTCACATCATTATGCACGGCACTT\n",
      "||||||||||||||||||||||||||||||||||||||||||||||||||\n",
      "CTCTCACTGAATCAGTACCAAATGCACTCACATCATTATGCACGGCACTT\n",
      "GCCTCAGCGGTCTATACCCTGTGCCATTTACCCATAACGCCCATCATTAT\n",
      "||||||||||||||||||||||||||||||||||||||||||||||||||\n",
      "GCCTCAGCGGTCTATACCCTGTGCCATTTACCCATAACGCCCATCATTAT\n",
      "CCACATTTTGATATCTATATCTCATTCGGCGGTCCCAAATATTGTATAAC\n",
      "||||||||||||||||||||||||||||||||||||||||||||||||||\n",
      "CCACATTTTGATATCTATATCTCATTCGGCGGTCCCAAATATTGTATAAC\n",
      "TGCCCTTAATACATACGTTATACCACTTTTGCACCATATACTTACCACTC\n",
      "||||||||||||||||||||||||||||||||||||||||||||||||||\n",
      "TGCCCTTAATACATACGTTATACCACTTTTGCACCATATACTTACCACTC\n",
      "CATTTATATACACTTATGTCAATATTACAGAAAAATCCCCACAAAAATCA\n",
      "||||||||||||||||||||||||||||||||||||||||||||||||||\n",
      "CATTTATATACACTTATGTCAATATTACAGAAAAATCCCCACAAAAATCA\n",
      "CCTAAACATAAAAATATTCTACTTTTCAACAATAATACATAAACATATTG\n",
      "||||||||||||||||||||||||||||||||||||||||||||||||||\n",
      "CCTAAACATAAAAATATTCTACTTTTCAACAATAATACATAAACATATTG\n",
      "GCTTGTGGTAGCAACACTATCATGGTATCACTAACGTAAAAGTTCCTCAA\n",
      "||||||||||||||||||||||||||||||||||||||||||||||||||\n",
      "GCTTGTGGTAGCAACACTATCATGGTATCACTAACGTAAAAGTTCCTCAA\n",
      "TATTGCAATTTGCTTGAACGGATGCTATTTCAGAATATTTCGTACTTACA\n",
      "||||||||||||||||||||||||||||||||||||||||||||||||||\n",
      "TATTGCAATTTGCTTGAACGGATGCTATTTCAGAATATTTCGTACTTACA\n",
      "CAGGCCATACATTAGAATAATATGTCACATCACTGTCGTAACACTCTTTA\n",
      "||||||||||||||||||||||||||||||||||||||||||||||||||\n",
      "CAGGCCATACATTAGAATAATATGTCACATCACTGTCGTAACACTCTTTA\n",
      "TTCACCGAGCAATAATACGGTAGTGGCTCAAACTCATGCGGGTGCTATGA\n",
      "||||||||||||||||||||||||||||||||||||||||||||||||||\n",
      "TTCACCGAGCAATAATACGGTAGTGGCTCAAACTCATGCGGGTGCTATGA\n"
     ]
    }
   ],
   "source": [
    "Assignment3_helper.print_alignment(ch1_first_1000,assembled_seq,num_to_print=50)"
   ]
  },
  {
   "cell_type": "markdown",
   "metadata": {},
   "source": [
    "Well that's better! But there are still a couple of errors. Try increasing the k-value and see if we can correct the problem."
   ]
  },
  {
   "cell_type": "code",
   "execution_count": 20,
   "metadata": {},
   "outputs": [
    {
     "data": {
      "text/plain": [
       "'CCACACCACACCCACACACCCACACACCACACCACACACCACACCACACCCACACACACACATCCTAACACTACCCTAACACAGCCCTAATCTAACCCTGGCCAACCTGTCTCTCAACTTACCCTCCATTACCCTGCCTCCACTCGTTACCCTGTCCCATTCAACCATACCACTCCGAACCACCATCCATCCCTCTACTTACTACCACTCACCCACCGTTACCCTCCAATTACCCATATCCAACCCACTGCCACTTACCCTACCATTACCCTACCATCCACCATGACCTACTCACCATACTGTTCTTCTACCCACCATATTGAAACGCTAACAAATGATCGTAAATAACACACACGTGCTTACCCTACCACTTTATACCACCACCACATGCCATACTCACCCTCACTTGTATACTGATTTTACGTACGCACACGGATGCTACAGTATATACCATCTCAAACTTACCCTACTCTCAGATTCCACTTCACTCCATGGCCCATCTCTCACTGAATCAGTACCAAATGCACTCACATCATTATGCACGGCACTTGCCTCAGCGGTCTATACCCTGTGCCATTTACCCATAACGCCCATCATTATCCACATTTTGATATCTATATCTCATTCGGCGGTCCCAAATATTGTATAACTGCCCTTAATACATACGTTATACCACTTTTGCACCATATACTTACCACTCCATTTATATACACTTATGTCAATATTACAGAAAAATCCCCACAAAAATCACCTAAACATAAAAATATTCTACTTTTCAACAATAATACATAAACATATTGGCTTGTGGTAGCAACACTATCATGGTATCACTAACGTAAAAGTTCCTCAATATTGCAATTTGCTTGAACGGATGCTATTTCAGAATATTTCGTACTTACACAGGCCATACATTAGAATAATATGTCACATCACTGTCGTAACACTCTTTATTCACCGAGCAATAATACGGTAGTGGCTCAAACTCATGCGGGTGCTATGA'"
      ]
     },
     "execution_count": 20,
     "metadata": {},
     "output_type": "execute_result"
    }
   ],
   "source": [
    "kmers=Assignment3_helper.composition(13,ch1_first_1000)\n",
    "assembled_seq=Assignment3_helper.reconstruct(kmers)\n",
    "assembled_seq"
   ]
  },
  {
   "cell_type": "code",
   "execution_count": 21,
   "metadata": {},
   "outputs": [
    {
     "name": "stdout",
     "output_type": "stream",
     "text": [
      "CCACACCACACCCACACACCCACACACCACACCACACACCACACCACACC\n",
      "||||||||||||||||||||||||||||||||||||||||||||||||||\n",
      "CCACACCACACCCACACACCCACACACCACACCACACACCACACCACACC\n",
      "CACACACACACATCCTAACACTACCCTAACACAGCCCTAATCTAACCCTG\n",
      "||||||||||||||||||||||||||||||||||||||||||||||||||\n",
      "CACACACACACATCCTAACACTACCCTAACACAGCCCTAATCTAACCCTG\n",
      "GCCAACCTGTCTCTCAACTTACCCTCCATTACCCTGCCTCCACTCGTTAC\n",
      "||||||||||||||||||||||||||||||||||||||||||||||||||\n",
      "GCCAACCTGTCTCTCAACTTACCCTCCATTACCCTGCCTCCACTCGTTAC\n",
      "CCTGTCCCATTCAACCATACCACTCCGAACCACCATCCATCCCTCTACTT\n",
      "||||||||||||||||||||||||||||||||||||||||||||||||||\n",
      "CCTGTCCCATTCAACCATACCACTCCGAACCACCATCCATCCCTCTACTT\n",
      "ACTACCACTCACCCACCGTTACCCTCCAATTACCCATATCCAACCCACTG\n",
      "||||||||||||||||||||||||||||||||||||||||||||||||||\n",
      "ACTACCACTCACCCACCGTTACCCTCCAATTACCCATATCCAACCCACTG\n",
      "CCACTTACCCTACCATTACCCTACCATCCACCATGACCTACTCACCATAC\n",
      "||||||||||||||||||||||||||||||||||||||||||||||||||\n",
      "CCACTTACCCTACCATTACCCTACCATCCACCATGACCTACTCACCATAC\n",
      "TGTTCTTCTACCCACCATATTGAAACGCTAACAAATGATCGTAAATAACA\n",
      "||||||||||||||||||||||||||||||||||||||||||||||||||\n",
      "TGTTCTTCTACCCACCATATTGAAACGCTAACAAATGATCGTAAATAACA\n",
      "CACACGTGCTTACCCTACCACTTTATACCACCACCACATGCCATACTCAC\n",
      "||||||||||||||||||||||||||||||||||||||||||||||||||\n",
      "CACACGTGCTTACCCTACCACTTTATACCACCACCACATGCCATACTCAC\n",
      "CCTCACTTGTATACTGATTTTACGTACGCACACGGATGCTACAGTATATA\n",
      "||||||||||||||||||||||||||||||||||||||||||||||||||\n",
      "CCTCACTTGTATACTGATTTTACGTACGCACACGGATGCTACAGTATATA\n",
      "CCATCTCAAACTTACCCTACTCTCAGATTCCACTTCACTCCATGGCCCAT\n",
      "||||||||||||||||||||||||||||||||||||||||||||||||||\n",
      "CCATCTCAAACTTACCCTACTCTCAGATTCCACTTCACTCCATGGCCCAT\n",
      "CTCTCACTGAATCAGTACCAAATGCACTCACATCATTATGCACGGCACTT\n",
      "||||||||||||||||||||||||||||||||||||||||||||||||||\n",
      "CTCTCACTGAATCAGTACCAAATGCACTCACATCATTATGCACGGCACTT\n",
      "GCCTCAGCGGTCTATACCCTGTGCCATTTACCCATAACGCCCATCATTAT\n",
      "||||||||||||||||||||||||||||||||||||||||||||||||||\n",
      "GCCTCAGCGGTCTATACCCTGTGCCATTTACCCATAACGCCCATCATTAT\n",
      "CCACATTTTGATATCTATATCTCATTCGGCGGTCCCAAATATTGTATAAC\n",
      "||||||||||||||||||||||||||||||||||||||||||||||||||\n",
      "CCACATTTTGATATCTATATCTCATTCGGCGGTCCCAAATATTGTATAAC\n",
      "TGCCCTTAATACATACGTTATACCACTTTTGCACCATATACTTACCACTC\n",
      "||||||||||||||||||||||||||||||||||||||||||||||||||\n",
      "TGCCCTTAATACATACGTTATACCACTTTTGCACCATATACTTACCACTC\n",
      "CATTTATATACACTTATGTCAATATTACAGAAAAATCCCCACAAAAATCA\n",
      "||||||||||||||||||||||||||||||||||||||||||||||||||\n",
      "CATTTATATACACTTATGTCAATATTACAGAAAAATCCCCACAAAAATCA\n",
      "CCTAAACATAAAAATATTCTACTTTTCAACAATAATACATAAACATATTG\n",
      "||||||||||||||||||||||||||||||||||||||||||||||||||\n",
      "CCTAAACATAAAAATATTCTACTTTTCAACAATAATACATAAACATATTG\n",
      "GCTTGTGGTAGCAACACTATCATGGTATCACTAACGTAAAAGTTCCTCAA\n",
      "||||||||||||||||||||||||||||||||||||||||||||||||||\n",
      "GCTTGTGGTAGCAACACTATCATGGTATCACTAACGTAAAAGTTCCTCAA\n",
      "TATTGCAATTTGCTTGAACGGATGCTATTTCAGAATATTTCGTACTTACA\n",
      "||||||||||||||||||||||||||||||||||||||||||||||||||\n",
      "TATTGCAATTTGCTTGAACGGATGCTATTTCAGAATATTTCGTACTTACA\n",
      "CAGGCCATACATTAGAATAATATGTCACATCACTGTCGTAACACTCTTTA\n",
      "||||||||||||||||||||||||||||||||||||||||||||||||||\n",
      "CAGGCCATACATTAGAATAATATGTCACATCACTGTCGTAACACTCTTTA\n",
      "TTCACCGAGCAATAATACGGTAGTGGCTCAAACTCATGCGGGTGCTATGA\n",
      "||||||||||||||||||||||||||||||||||||||||||||||||||\n",
      "TTCACCGAGCAATAATACGGTAGTGGCTCAAACTCATGCGGGTGCTATGA\n"
     ]
    }
   ],
   "source": [
    "Assignment3_helper.print_alignment(ch1_first_1000,assembled_seq,num_to_print=50)"
   ]
  },
  {
   "cell_type": "markdown",
   "metadata": {},
   "source": [
    "So now our question becomes, is this it? Can we call it a day? Well don't forget that Yeast has more than one chromosome. If you construct kmers from two chromosomes, then our algorithm falls apart and needs significant improvements."
   ]
  },
  {
   "cell_type": "code",
   "execution_count": 22,
   "metadata": {},
   "outputs": [
    {
     "data": {
      "text/plain": [
       "'AAATAGCCCTCATGTACGTCTCCTCCAAGC'"
      ]
     },
     "execution_count": 22,
     "metadata": {},
     "output_type": "execute_result"
    }
   ],
   "source": [
    "ch2_first_30 = seqs[1][:30].upper()\n",
    "ch2_first_30"
   ]
  },
  {
   "cell_type": "markdown",
   "metadata": {},
   "source": [
    "**Warning:** The following cell is supposed to produce an error as the graph produced by combining the kmers from the two chromosomes is not structured correctly for our assembler."
   ]
  },
  {
   "cell_type": "code",
   "execution_count": 23,
   "metadata": {},
   "outputs": [
    {
     "ename": "KeyError",
     "evalue": "'TCTCCTCCAAGC'",
     "output_type": "error",
     "traceback": [
      "\u001b[0;31m---------------------------------------------------------------------------\u001b[0m",
      "\u001b[0;31mKeyError\u001b[0m                                  Traceback (most recent call last)",
      "\u001b[0;32m<ipython-input-23-8d5fd2c16532>\u001b[0m in \u001b[0;36m<module>\u001b[0;34m\u001b[0m\n\u001b[1;32m      1\u001b[0m \u001b[0mkmers\u001b[0m\u001b[0;34m=\u001b[0m\u001b[0mAssignment3_helper\u001b[0m\u001b[0;34m.\u001b[0m\u001b[0mcomposition\u001b[0m\u001b[0;34m(\u001b[0m\u001b[0;36m13\u001b[0m\u001b[0;34m,\u001b[0m\u001b[0mch1_first_1000\u001b[0m\u001b[0;34m)\u001b[0m\u001b[0;34m+\u001b[0m\u001b[0mAssignment3_helper\u001b[0m\u001b[0;34m.\u001b[0m\u001b[0mcomposition\u001b[0m\u001b[0;34m(\u001b[0m\u001b[0;36m13\u001b[0m\u001b[0;34m,\u001b[0m\u001b[0mch2_first_30\u001b[0m\u001b[0;34m)\u001b[0m\u001b[0;34m\u001b[0m\u001b[0;34m\u001b[0m\u001b[0m\n\u001b[0;32m----> 2\u001b[0;31m \u001b[0massembled_seq\u001b[0m\u001b[0;34m=\u001b[0m\u001b[0mAssignment3_helper\u001b[0m\u001b[0;34m.\u001b[0m\u001b[0mreconstruct\u001b[0m\u001b[0;34m(\u001b[0m\u001b[0mkmers\u001b[0m\u001b[0;34m)\u001b[0m\u001b[0;34m\u001b[0m\u001b[0;34m\u001b[0m\u001b[0m\n\u001b[0m\u001b[1;32m      3\u001b[0m \u001b[0massembled_seq\u001b[0m\u001b[0;34m\u001b[0m\u001b[0;34m\u001b[0m\u001b[0m\n",
      "\u001b[0;32m~/csc-448-instructor/assignments/Assignment3_helper.py\u001b[0m in \u001b[0;36mreconstruct\u001b[0;34m(kmers)\u001b[0m\n\u001b[1;32m    142\u001b[0m \u001b[0;32mdef\u001b[0m \u001b[0mreconstruct\u001b[0m\u001b[0;34m(\u001b[0m\u001b[0mkmers\u001b[0m\u001b[0;34m)\u001b[0m\u001b[0;34m:\u001b[0m\u001b[0;34m\u001b[0m\u001b[0;34m\u001b[0m\u001b[0m\n\u001b[1;32m    143\u001b[0m     \u001b[0mdB\u001b[0m \u001b[0;34m=\u001b[0m \u001b[0mde_bruijn\u001b[0m\u001b[0;34m(\u001b[0m\u001b[0mkmers\u001b[0m\u001b[0;34m)\u001b[0m\u001b[0;34m\u001b[0m\u001b[0;34m\u001b[0m\u001b[0m\n\u001b[0;32m--> 144\u001b[0;31m     \u001b[0mpath\u001b[0m \u001b[0;34m=\u001b[0m \u001b[0meulerian_path\u001b[0m\u001b[0;34m(\u001b[0m\u001b[0mdB\u001b[0m\u001b[0;34m)\u001b[0m\u001b[0;34m\u001b[0m\u001b[0;34m\u001b[0m\u001b[0m\n\u001b[0m\u001b[1;32m    145\u001b[0m     \u001b[0mtext\u001b[0m \u001b[0;34m=\u001b[0m \u001b[0;34m\"\"\u001b[0m\u001b[0;34m\u001b[0m\u001b[0;34m\u001b[0m\u001b[0m\n\u001b[1;32m    146\u001b[0m     \u001b[0;31m# YOUR SOLUTION HERE\u001b[0m\u001b[0;34m\u001b[0m\u001b[0;34m\u001b[0m\u001b[0;34m\u001b[0m\u001b[0m\n",
      "\u001b[0;32m~/csc-448-instructor/assignments/Assignment3_helper.py\u001b[0m in \u001b[0;36meulerian_path\u001b[0;34m(G)\u001b[0m\n\u001b[1;32m    133\u001b[0m     \u001b[0mG2\u001b[0m \u001b[0;34m=\u001b[0m \u001b[0mcopy\u001b[0m\u001b[0;34m.\u001b[0m\u001b[0mdeepcopy\u001b[0m\u001b[0;34m(\u001b[0m\u001b[0mG\u001b[0m\u001b[0;34m)\u001b[0m\u001b[0;34m\u001b[0m\u001b[0;34m\u001b[0m\u001b[0m\n\u001b[1;32m    134\u001b[0m     \u001b[0mG2\u001b[0m\u001b[0;34m.\u001b[0m\u001b[0madd_edge\u001b[0m\u001b[0;34m(\u001b[0m\u001b[0mend\u001b[0m\u001b[0;34m,\u001b[0m\u001b[0mstart\u001b[0m\u001b[0;34m)\u001b[0m\u001b[0;34m\u001b[0m\u001b[0;34m\u001b[0m\u001b[0m\n\u001b[0;32m--> 135\u001b[0;31m     \u001b[0mcycle\u001b[0m \u001b[0;34m=\u001b[0m \u001b[0meulerian_cycle\u001b[0m\u001b[0;34m(\u001b[0m\u001b[0mG2\u001b[0m\u001b[0;34m)\u001b[0m\u001b[0;34m\u001b[0m\u001b[0;34m\u001b[0m\u001b[0m\n\u001b[0m\u001b[1;32m    136\u001b[0m     \u001b[0;32mwhile\u001b[0m \u001b[0;32mnot\u001b[0m \u001b[0;34m(\u001b[0m\u001b[0mcycle\u001b[0m\u001b[0;34m[\u001b[0m\u001b[0;36m0\u001b[0m\u001b[0;34m]\u001b[0m \u001b[0;34m==\u001b[0m \u001b[0mstart\u001b[0m \u001b[0;32mand\u001b[0m \u001b[0mcycle\u001b[0m\u001b[0;34m[\u001b[0m\u001b[0;34m-\u001b[0m\u001b[0;36m2\u001b[0m\u001b[0;34m]\u001b[0m \u001b[0;34m==\u001b[0m \u001b[0mend\u001b[0m\u001b[0;34m)\u001b[0m\u001b[0;34m:\u001b[0m\u001b[0;34m\u001b[0m\u001b[0;34m\u001b[0m\u001b[0m\n\u001b[1;32m    137\u001b[0m         \u001b[0mcycle\u001b[0m \u001b[0;34m=\u001b[0m \u001b[0;34m[\u001b[0m\u001b[0mcycle\u001b[0m\u001b[0;34m[\u001b[0m\u001b[0;34m-\u001b[0m\u001b[0;36m2\u001b[0m\u001b[0;34m]\u001b[0m\u001b[0;34m]\u001b[0m \u001b[0;34m+\u001b[0m \u001b[0mcycle\u001b[0m\u001b[0;34m[\u001b[0m\u001b[0;36m0\u001b[0m\u001b[0;34m:\u001b[0m\u001b[0;34m-\u001b[0m\u001b[0;36m2\u001b[0m\u001b[0;34m]\u001b[0m \u001b[0;34m+\u001b[0m \u001b[0;34m[\u001b[0m\u001b[0mcycle\u001b[0m\u001b[0;34m[\u001b[0m\u001b[0;34m-\u001b[0m\u001b[0;36m2\u001b[0m\u001b[0;34m]\u001b[0m\u001b[0;34m]\u001b[0m\u001b[0;34m\u001b[0m\u001b[0;34m\u001b[0m\u001b[0m\n",
      "\u001b[0;32m~/csc-448-instructor/assignments/Assignment3_helper.py\u001b[0m in \u001b[0;36meulerian_cycle\u001b[0;34m(G, start)\u001b[0m\n\u001b[1;32m    107\u001b[0m     \u001b[0;32mwhile\u001b[0m \u001b[0mecnt\u001b[0m \u001b[0;34m<\u001b[0m \u001b[0mcnt\u001b[0m\u001b[0;34m:\u001b[0m\u001b[0;34m\u001b[0m\u001b[0;34m\u001b[0m\u001b[0m\n\u001b[1;32m    108\u001b[0m         \u001b[0;32mwhile\u001b[0m \u001b[0;32mTrue\u001b[0m\u001b[0;34m:\u001b[0m\u001b[0;34m\u001b[0m\u001b[0;34m\u001b[0m\u001b[0m\n\u001b[0;32m--> 109\u001b[0;31m             \u001b[0mneighbors\u001b[0m \u001b[0;34m=\u001b[0m \u001b[0medges\u001b[0m\u001b[0;34m[\u001b[0m\u001b[0mcurrent\u001b[0m\u001b[0;34m]\u001b[0m\u001b[0;34m\u001b[0m\u001b[0;34m\u001b[0m\u001b[0m\n\u001b[0m\u001b[1;32m    110\u001b[0m             \u001b[0;32mif\u001b[0m \u001b[0mlen\u001b[0m\u001b[0;34m(\u001b[0m\u001b[0mneighbors\u001b[0m\u001b[0;34m)\u001b[0m \u001b[0;34m>\u001b[0m \u001b[0;36m0\u001b[0m\u001b[0;34m:\u001b[0m\u001b[0;34m\u001b[0m\u001b[0;34m\u001b[0m\u001b[0m\n\u001b[1;32m    111\u001b[0m                 \u001b[0;32mbreak\u001b[0m\u001b[0;34m\u001b[0m\u001b[0;34m\u001b[0m\u001b[0m\n",
      "\u001b[0;31mKeyError\u001b[0m: 'TCTCCTCCAAGC'"
     ]
    }
   ],
   "source": [
    "kmers=Assignment3_helper.composition(13,ch1_first_1000)+Assignment3_helper.composition(13,ch2_first_30)\n",
    "assembled_seq=Assignment3_helper.reconstruct(kmers)\n",
    "assembled_seq"
   ]
  }
 ],
 "metadata": {
  "celltoolbar": "Slideshow",
  "jupytext": {
   "formats": "ipynb,md,py"
  },
  "kernelspec": {
   "display_name": "Python 3",
   "language": "python",
   "name": "python3"
  },
  "language_info": {
   "codemirror_mode": {
    "name": "ipython",
    "version": 3
   },
   "file_extension": ".py",
   "mimetype": "text/x-python",
   "name": "python",
   "nbconvert_exporter": "python",
   "pygments_lexer": "ipython3",
   "version": "3.7.3"
  }
 },
 "nbformat": 4,
 "nbformat_minor": 4
}
