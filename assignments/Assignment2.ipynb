{
 "cells": [
  {
   "cell_type": "markdown",
   "metadata": {
    "hideCode": false,
    "hidePrompt": false,
    "slideshow": {
     "slide_type": "slide"
    }
   },
   "source": [
    "# Comparing DNA Sequences\n",
    "\n",
    "## Dynamic programming\n",
    "\n",
    "In this assignment, we will:\n",
    "1. Verify that your solutions for exercises in Topic 2 are implemented correctly\n",
    "2. Extend these solutions\n",
    "3. Apply them to scenarios of both success and failure"
   ]
  },
  {
   "cell_type": "markdown",
   "metadata": {},
   "source": [
    "## Verifying solutions to Topic 2 are correct\n",
    "Please see Topic2 notebook for detailed information. You must copy Topic2_helper.py to this folder for these commands to work."
   ]
  },
  {
   "cell_type": "code",
   "execution_count": 1,
   "metadata": {
    "hideCode": false,
    "hidePrompt": false,
    "slideshow": {
     "slide_type": "skip"
    }
   },
   "outputs": [],
   "source": [
    "%load_ext autoreload\n",
    "%autoreload 2\n",
    "\n",
    "\n",
    "import pandas as pd\n",
    "import numpy as np\n",
    "\n",
    "import Assignment2_helper \n",
    "import Topic2_helper\n",
    "\n",
    "from pathlib import Path\n",
    "home = str(Path.home()) # all other paths are relative to this path. \n",
    "# This is not relevant to most people because I recommended you use my server, but\n",
    "# change home to where you are storing everything. Again. Not recommended."
   ]
  },
  {
   "cell_type": "markdown",
   "metadata": {},
   "source": [
    "## Exercise 1"
   ]
  },
  {
   "cell_type": "code",
   "execution_count": 2,
   "metadata": {},
   "outputs": [
    {
     "name": "stdout",
     "output_type": "stream",
     "text": [
      "AACTG\n",
      "AC\n"
     ]
    }
   ],
   "source": [
    "\n",
    "print(Topic2_helper.greedy_lcs(\"AACCTTGG\",\"ACACTGTGA\"))\n",
    "\n",
    "print(Topic2_helper.greedy_lcs(\"AACCTTGG\",\"ACAC\"))"
   ]
  },
  {
   "cell_type": "markdown",
   "metadata": {},
   "source": [
    "## Exercise 2"
   ]
  },
  {
   "cell_type": "code",
   "execution_count": 3,
   "metadata": {},
   "outputs": [
    {
     "name": "stdout",
     "output_type": "stream",
     "text": [
      "A-ACCTTGG\n",
      "ACACTGTGA\n",
      "\n",
      "AACCTTGG\n",
      "A-C---AC\n"
     ]
    }
   ],
   "source": [
    "\n",
    "print(Topic2_helper.greedy_alignment(\"AACCTTGG\",\"ACACTGTGA\"))\n",
    "print()\n",
    "print(Topic2_helper.greedy_alignment(\"AACCTTGG\",\"ACAC\"))"
   ]
  },
  {
   "cell_type": "markdown",
   "metadata": {},
   "source": [
    "## Exercise 3"
   ]
  },
  {
   "cell_type": "code",
   "execution_count": 4,
   "metadata": {},
   "outputs": [
    {
     "data": {
      "text/plain": [
       "5"
      ]
     },
     "execution_count": 4,
     "metadata": {},
     "output_type": "execute_result"
    }
   ],
   "source": [
    "\n",
    "Topic2_helper.min_num_coins(27,[6,5,1])"
   ]
  },
  {
   "cell_type": "markdown",
   "metadata": {},
   "source": [
    "## Exercise 4"
   ]
  },
  {
   "cell_type": "code",
   "execution_count": 5,
   "metadata": {},
   "outputs": [
    {
     "data": {
      "text/plain": [
       "5"
      ]
     },
     "execution_count": 5,
     "metadata": {},
     "output_type": "execute_result"
    }
   ],
   "source": [
    "\n",
    "Topic2_helper.min_num_coins_dynamic(27,[6,5,1])"
   ]
  },
  {
   "cell_type": "markdown",
   "metadata": {},
   "source": [
    "## Exercise 5"
   ]
  },
  {
   "cell_type": "code",
   "execution_count": 6,
   "metadata": {},
   "outputs": [
    {
     "name": "stdout",
     "output_type": "stream",
     "text": [
      "4\n",
      "AAC-CT-\n",
      "A-CACTG\n"
     ]
    }
   ],
   "source": [
    "\n",
    "score, aligned_s1, aligned_s2 = Topic2_helper.align(\"AACCT\",\"ACACTG\")\n",
    "print(score)\n",
    "print(aligned_s1)\n",
    "print(aligned_s2)"
   ]
  },
  {
   "cell_type": "markdown",
   "metadata": {},
   "source": [
    "## Exercise 6"
   ]
  },
  {
   "cell_type": "code",
   "execution_count": 7,
   "metadata": {},
   "outputs": [
    {
     "data": {
      "text/plain": [
       "4"
      ]
     },
     "execution_count": 7,
     "metadata": {},
     "output_type": "execute_result"
    }
   ],
   "source": [
    "\n",
    "score = Topic2_helper.align_dynamic(\"AACCT\",\"ACACTG\")\n",
    "score"
   ]
  },
  {
   "cell_type": "markdown",
   "metadata": {},
   "source": [
    "## Exercise 7"
   ]
  },
  {
   "cell_type": "code",
   "execution_count": 8,
   "metadata": {},
   "outputs": [
    {
     "name": "stdout",
     "output_type": "stream",
     "text": [
      "4\n",
      "A-ACCT-\n",
      "ACA-CTG\n"
     ]
    }
   ],
   "source": [
    "\n",
    "score,s1_aligned,s2_aligned = Topic2_helper.align_dynamic2(\"AACCT\",\"ACACTG\")\n",
    "print(score)\n",
    "print(s1_aligned)\n",
    "print(s2_aligned)"
   ]
  },
  {
   "cell_type": "markdown",
   "metadata": {},
   "source": [
    "## Exercise 8. Different scoring functions\n",
    "\n",
    "For exercise 8, modify align_dynamic3 to correctly incorporate a match, mismatch, and gap penalty."
   ]
  },
  {
   "cell_type": "code",
   "execution_count": 9,
   "metadata": {},
   "outputs": [
    {
     "data": {
      "text/plain": [
       "(99, 180)"
      ]
     },
     "execution_count": 9,
     "metadata": {},
     "output_type": "execute_result"
    }
   ],
   "source": [
    "s1=\"CGCAACCACAGCGCGCAGGGCAGGCGCGAGCTGTCTGAGCCCCGGCCTCGGACCGCCCACTGGACTCCCGGCACGCCCGGTGCCGCCTTCCGGCTCCAGTCCCCC\"\n",
    "s2=\"CGCAACGGCAGCGCGCAGGGCAGGCGCGAGCTGGCCTCTGAGCCCCGGCCTCGGACCGCCCACTCCACGCCCGGCAGGCCCGGTGCCGCCTTCCGGCTCCAGTCCCCCCGC\"\n",
    "score_1,aligned_s1_1,aligned_s2_1 = Assignment2_helper.align_dynamic3(s1,s2,match_score=1,mismatch_score=0,gap_score=0)\n",
    "score_2,aligned_s1_2,aligned_s2_2 = Assignment2_helper.align_dynamic3(s1,s2,match_score=2,mismatch_score=-3,gap_score=-1)\n",
    "score_1,score_2"
   ]
  },
  {
   "cell_type": "markdown",
   "metadata": {},
   "source": [
    "**Problem 1:** Now that you have implemented the function and verified that your score works, please consider the resulting alignments. Discuss how the gap, match, and mismatch penalty have changed the alignment. Feel free to experiment with other parameter values and sequences. Speculate on how a biologist would decide on the best match, mismatch, and penalties."
   ]
  },
  {
   "cell_type": "code",
   "execution_count": 10,
   "metadata": {},
   "outputs": [
    {
     "name": "stdout",
     "output_type": "stream",
     "text": [
      "CGCAACCACAGCGCGCAGGGCAGGCGCGAGCT-G--TCTGAGCCCCGGCCTCGGACCGCCCACTGGACTCCCGGCACGCCCGGTGCCGCCTTCCGGCTCCAGT--CCCC-C\n",
      "||||||  |||||||||||||||||||||||| |  ||||||||||||||||||||||||||||  || ||||||| ||||||||||||||||||||||||||  |||| |\n",
      "CGCAACGGCAGCGCGCAGGGCAGGCGCGAGCTGGCCTCTGAGCCCCGGCCTCGGACCGCCCACTCCACGCCCGGCAGGCCCGGTGCCGCCTTCCGGCTCCAGTCCCCCCGC"
     ]
    }
   ],
   "source": [
    "Assignment2_helper.print_alignment(aligned_s1_1,aligned_s2_1)"
   ]
  },
  {
   "cell_type": "code",
   "execution_count": 11,
   "metadata": {},
   "outputs": [
    {
     "name": "stdout",
     "output_type": "stream",
     "text": [
      "CGCAAC--CACAGCGCGCAGGGCAGGCGCGAGCT-G--TCTGAGCCCCGGCCTCGGACCGCCCACT--GGAC-TCCCGGCA-CGCCCGGTGCCGCCTTCCGGCTCCAGT--CCCC-C\n",
      "||||||    |||||||||||||||||||||||| |  ||||||||||||||||||||||||||||    ||  |||||||  ||||||||||||||||||||||||||  |||| |\n",
      "CGCAACGG--CAGCGCGCAGGGCAGGCGCGAGCTGGCCTCTGAGCCCCGGCCTCGGACCGCCCACTCC--ACG-CCCGGCAG-GCCCGGTGCCGCCTTCCGGCTCCAGTCCCCCCGC"
     ]
    }
   ],
   "source": [
    "Assignment2_helper.print_alignment(aligned_s1_2,aligned_s2_2)"
   ]
  },
  {
   "cell_type": "markdown",
   "metadata": {},
   "source": [
    "**Your answer here**"
   ]
  },
  {
   "cell_type": "code",
   "execution_count": 12,
   "metadata": {
    "hideCode": false,
    "hidePrompt": false,
    "slideshow": {
     "slide_type": "skip"
    }
   },
   "outputs": [],
   "source": [
    "# Don't forget to push!"
   ]
  },
  {
   "cell_type": "code",
   "execution_count": null,
   "metadata": {
    "hideCode": false,
    "hidePrompt": false
   },
   "outputs": [],
   "source": []
  }
 ],
 "metadata": {
  "celltoolbar": "Slideshow",
  "hide_code_all_hidden": false,
  "jupytext": {
   "formats": "ipynb,md,py"
  },
  "kernelspec": {
   "display_name": "Python 3",
   "language": "python",
   "name": "python3"
  },
  "language_info": {
   "codemirror_mode": {
    "name": "ipython",
    "version": 3
   },
   "file_extension": ".py",
   "mimetype": "text/x-python",
   "name": "python",
   "nbconvert_exporter": "python",
   "pygments_lexer": "ipython3",
   "version": "3.7.3"
  }
 },
 "nbformat": 4,
 "nbformat_minor": 4
}
